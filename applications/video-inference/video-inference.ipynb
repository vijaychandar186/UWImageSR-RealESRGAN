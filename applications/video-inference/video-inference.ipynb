{
  "cells": [
    {
      "cell_type": "markdown",
      "metadata": {},
      "source": [
        "# RealESRGAN Video Inference with Fine-Tuned Model on Google Colab (T4 GPU)\n",
        "\n",
        "This notebook demonstrates how to use a fine-tuned RealESRGAN model to perform video super-resolution on a Google Colab environment with a T4 GPU. The script processes a video frame by frame, enhances each frame using the fine-tuned RealESRGAN model, and saves the upscaled video with preserved audio.\n",
        "\n",
        "## Prerequisites\n",
        "- Ensure you have a Google Colab environment with a T4 GPU assigned (select Runtime > Change runtime type > T4 GPU).\n",
        "- Upload a video file (e.g., `test1.mp4`) to the Colab working directory or clone the Git repository containing the video.\n",
        "- Obtain the fine-tuned model weights (`net_g_5000.pth`) from the Git repository (stored as a Git LFS file). Clone the repository and ensure Git LFS is set up to download the model.\n",
        "- Install Git LFS in Colab if needed: `!apt-get install git-lfs && git lfs install`.\n",
        "\n",
        "## Steps\n",
        "1. Install required dependencies and Git LFS.\n",
        "2. Clone the Git repository containing the fine-tuned model (`net_g_5000.pth`).\n",
        "3. Set up paths for the input video and model weights.\n",
        "4. Run the inference script to process the video.\n",
        "5. Download the output video from the specified output directory.\n",
        "\n",
        "## Notes\n",
        "- The script uses FP16 precision by default to optimize performance on T4 GPU.\n",
        "- If you encounter CUDA out-of-memory errors, reduce the `tile` size (default: 1000).\n",
        "- The output video resolution is scaled by the `outscale` factor (default: 4x).\n",
        "- For `.flv` videos, the script converts them to `.mp4` before processing.\n",
        "- The fine-tuned model (`net_g_5000.pth`) is specific to this implementation and differs from the original RealESRGAN_x4plus model."
      ]
    },
    {
      "cell_type": "markdown",
      "metadata": {},
      "source": [
        "### If **not** using Conda:\n",
        "\n",
        "Ensure that you have the following system-level dependencies installed via your OS package manager:\n",
        "\n",
        "* `ffmpeg`\n",
        "* `libGL`\n",
        "\n",
        "You can install the required Python packages manually using `pip`:"
      ]
    },
    {
      "cell_type": "code",
      "execution_count": null,
      "metadata": {},
      "outputs": [
        {
          "name": "stdout",
          "output_type": "stream",
          "text": [
            "Get:1 https://repo.anaconda.com/pkgs/misc/debrepo/conda stable InRelease [3961 B]\n",
            "Get:2 https://packages.microsoft.com/repos/microsoft-ubuntu-noble-prod noble InRelease [3600 B]\n",
            "Get:3 https://dl.yarnpkg.com/debian stable InRelease                           \u001b[0m\n",
            "Get:4 http://archive.ubuntu.com/ubuntu noble InRelease [256 kB]              \u001b[0m0m\u001b[33m\n",
            "Get:5 http://security.ubuntu.com/ubuntu noble-security InRelease [126 kB]      \u001b[0m\n",
            "Get:6 https://repo.anaconda.com/pkgs/misc/debrepo/conda stable/main amd64 Packages [4557 B]\n",
            "Get:7 http://archive.ubuntu.com/ubuntu noble-updates InRelease [126 kB]\n",
            "Get:8 https://packages.microsoft.com/repos/microsoft-ubuntu-noble-prod noble/main all Packages [576 B]\n",
            "Get:9 http://archive.ubuntu.com/ubuntu noble-backports InRelease [126 kB]\n",
            "Get:10 https://packages.microsoft.com/repos/microsoft-ubuntu-noble-prod noble/main amd64 Packages [36.3 kB]\n",
            "Get:11 https://dl.yarnpkg.com/debian stable/main amd64 Packages [11.8 kB]\u001b[33m\u001b[33m\n",
            "Get:12 https://dl.yarnpkg.com/debian stable/main all Packages [11.8 kB]\n",
            "Get:13 http://archive.ubuntu.com/ubuntu noble/universe amd64 Packages [19.3 MB]\n",
            "Get:14 http://security.ubuntu.com/ubuntu noble-security/multiverse amd64 Packages [22.1 kB]\n",
            "Get:15 http://security.ubuntu.com/ubuntu noble-security/main amd64 Packages [1129 kB]33m\n",
            "Get:16 http://archive.ubuntu.com/ubuntu noble/multiverse amd64 Packages [331 kB][0m\n",
            "Get:17 http://archive.ubuntu.com/ubuntu noble/restricted amd64 Packages [117 kB][0m\n",
            "Get:18 http://archive.ubuntu.com/ubuntu noble/main amd64 Packages [1808 kB]    \u001b[0m\n",
            "Get:19 http://archive.ubuntu.com/ubuntu noble-updates/universe amd64 Packages [1410 kB]\n",
            "Get:20 http://security.ubuntu.com/ubuntu noble-security/restricted amd64 Packages [1496 kB]\n",
            "Get:21 http://archive.ubuntu.com/ubuntu noble-updates/multiverse amd64 Packages [26.7 kB]\n",
            "Get:22 http://archive.ubuntu.com/ubuntu noble-updates/main amd64 Packages [1451 kB]\n",
            "Get:23 http://archive.ubuntu.com/ubuntu noble-updates/restricted amd64 Packages [1554 kB]\n",
            "Get:24 http://archive.ubuntu.com/ubuntu noble-backports/universe amd64 Packages [31.8 kB]\n",
            "Get:25 http://archive.ubuntu.com/ubuntu noble-backports/main amd64 Packages [48.0 kB]33m\n",
            "Get:26 http://security.ubuntu.com/ubuntu noble-security/universe amd64 Packages [1108 kB]\n",
            "Fetched 30.6 MB in 11s (2718 kB/s)                                             \u001b[0m\u001b[33m\u001b[33m\u001b[33m\u001b[33m\u001b[33m\u001b[33m\u001b[33m\u001b[33m\u001b[33m\u001b[33m\u001b[33m\u001b[33m\u001b[33m\u001b[33m\u001b[33m\u001b[33m\n",
            "Reading package lists... Done\n",
            "Building dependency tree... Done\n",
            "Reading state information... Done\n",
            "24 packages can be upgraded. Run 'apt list --upgradable' to see them.\n",
            "Hit:1 https://repo.anaconda.com/pkgs/misc/debrepo/conda stable InRelease\n",
            "Hit:2 https://dl.yarnpkg.com/debian stable InRelease                           \u001b[0m\n",
            "Hit:3 https://packages.microsoft.com/repos/microsoft-ubuntu-noble-prod noble InRelease\n",
            "Hit:4 http://archive.ubuntu.com/ubuntu noble InRelease                         \n",
            "Hit:5 http://security.ubuntu.com/ubuntu noble-security InRelease\n",
            "Hit:6 http://archive.ubuntu.com/ubuntu noble-updates InRelease\n",
            "Hit:7 http://archive.ubuntu.com/ubuntu noble-backports InRelease\n",
            "Reading package lists... Done\u001b[33m\u001b[33m\u001b[33m\u001b[33m\u001b[33m\u001b[33m\u001b[33m\n",
            "Building dependency tree... Done\n",
            "Reading state information... Done\n",
            "24 packages can be upgraded. Run 'apt list --upgradable' to see them.\n",
            "Reading package lists... Done\n",
            "Building dependency tree... Done\n",
            "Reading state information... Done\n",
            "The following additional packages will be installed:\n",
            "  adwaita-icon-theme alsa-topology-conf alsa-ucm-conf at-spi2-common\n",
            "  at-spi2-core dbus-user-session dconf-gsettings-backend dconf-service\n",
            "  gsettings-desktop-schemas gtk-update-icon-cache hicolor-icon-theme\n",
            "  humanity-icon-theme i965-va-driver intel-media-va-driver libaacs0 libaom3\n",
            "  libasound2-data libasound2t64 libass9 libasyncns0 libatk-bridge2.0-0t64\n",
            "  libatk1.0-0t64 libatspi2.0-0t64 libavahi-client3 libavahi-common-data\n",
            "  libavahi-common3 libavc1394-0 libavcodec60 libavdevice60 libavfilter9\n",
            "  libavformat60 libavutil58 libbdplus0 libblas3 libbluray2 libbs2b0 libcaca0\n",
            "  libcairo-gobject2 libcdio-cdda2t64 libcdio-paranoia2t64 libcdio19t64\n",
            "  libchromaprint1 libcjson1 libcodec2-1.2 libcolord2 libcups2t64 libdav1d7\n",
            "  libdc1394-25 libdconf1 libdecor-0-0 libdecor-0-plugin-1-gtk libdrm-amdgpu1\n",
            "  libdrm-common libdrm-intel1 libdrm-nouveau2 libdrm-radeon1 libdrm2 libepoxy0\n",
            "  libfftw3-double3 libflac12t64 libflite1 libgbm1 libgdk-pixbuf-2.0-0\n",
            "  libgdk-pixbuf2.0-bin libgdk-pixbuf2.0-common libgfortran5 libgl1-amber-dri\n",
            "  libgl1-mesa-dri libglapi-mesa libglvnd0 libglx-mesa0 libglx0 libgme0 libgsm1\n",
            "  libgtk-3-0t64 libgtk-3-bin libgtk-3-common libhwy1t64 libiec61883-0\n",
            "  libigdgmm12 libjack-jackd2-0 libjxl0.7 liblapack3 liblcms2-2 liblilv-0-0\n",
            "  libllvm19 libmbedcrypto7t64 libmp3lame0 libmpg123-0t64 libmysofa1\n",
            "  libnorm1t64 libogg0 libopenal-data libopenal1 libopenjp2-7 libopenmpt0t64\n",
            "  libopus0 libpciaccess0 libpgm-5.3-0t64 libplacebo338 libpocketsphinx3\n",
            "  libpostproc57 libpulse0 librabbitmq4 librav1e0 libraw1394-11 librist4\n",
            "  librsvg2-2 librsvg2-common librubberband2 libsamplerate0 libsdl2-2.0-0\n",
            "  libsensors-config libsensors5 libserd-0-0 libshine3 libslang2 libsnappy1v5\n",
            "  libsndfile1 libsndio7.0 libsord-0-0 libsoxr0 libspeex1 libsphinxbase3t64\n",
            "  libsratom-0-0 libsrt1.5-gnutls libssh-gcrypt-4 libsvtav1enc1d1\n",
            "  libswresample4 libswscale7 libtheora0 libtwolame0 libudfread0 libunibreak5\n",
            "  libusb-1.0-0 libva-drm2 libva-x11-2 libva2 libvdpau1 libvidstab1.1\n",
            "  libvorbis0a libvorbisenc2 libvorbisfile3 libvpl2 libvpx9 libvulkan1\n",
            "  libwayland-client0 libwayland-cursor0 libwayland-egl1 libwayland-server0\n",
            "  libwebpmux3 libx11-xcb1 libx264-164 libx265-199 libxcb-dri2-0 libxcb-dri3-0\n",
            "  libxcb-glx0 libxcb-present0 libxcb-randr0 libxcb-shape0 libxcb-sync1\n",
            "  libxcb-xfixes0 libxcomposite1 libxcursor1 libxdamage1 libxfixes3 libxi6\n",
            "  libxinerama1 libxkbcommon0 libxrandr2 libxshmfence1 libxtst6 libxv1\n",
            "  libxvidcore4 libxxf86vm1 libzimg2 libzix-0-0 libzmq5 libzvbi-common\n",
            "  libzvbi0t64 mesa-libgallium mesa-va-drivers mesa-vdpau-drivers\n",
            "  mesa-vulkan-drivers ocl-icd-libopencl1 pocketsphinx-en-us session-migration\n",
            "  shared-mime-info ubuntu-mono va-driver-all vdpau-driver-all xkb-data\n",
            "Suggested packages:\n",
            "  ffmpeg-doc i965-va-driver-shaders alsa-utils libasound2-plugins libcuda1\n",
            "  libnvcuvid1 libnvidia-encode1 libbluray-bdj colord cups-common libfftw3-bin\n",
            "  libfftw3-dev gvfs jackd2 liblcms2-utils libportaudio2 opus-tools pciutils\n",
            "  pulseaudio libraw1394-doc librsvg2-bin xdg-utils lm-sensors serdi sndiod\n",
            "  sordi speex opencl-icd libvdpau-va-gl1\n",
            "The following NEW packages will be installed:\n",
            "  adwaita-icon-theme alsa-topology-conf alsa-ucm-conf at-spi2-common\n",
            "  at-spi2-core dbus-user-session dconf-gsettings-backend dconf-service ffmpeg\n",
            "  gsettings-desktop-schemas gtk-update-icon-cache hicolor-icon-theme\n",
            "  humanity-icon-theme i965-va-driver intel-media-va-driver libaacs0 libaom3\n",
            "  libasound2-data libasound2t64 libass9 libasyncns0 libatk-bridge2.0-0t64\n",
            "  libatk1.0-0t64 libatspi2.0-0t64 libavahi-client3 libavahi-common-data\n",
            "  libavahi-common3 libavc1394-0 libavcodec60 libavdevice60 libavfilter9\n",
            "  libavformat60 libavutil58 libbdplus0 libblas3 libbluray2 libbs2b0 libcaca0\n",
            "  libcairo-gobject2 libcdio-cdda2t64 libcdio-paranoia2t64 libcdio19t64\n",
            "  libchromaprint1 libcjson1 libcodec2-1.2 libcolord2 libcups2t64 libdav1d7\n",
            "  libdc1394-25 libdconf1 libdecor-0-0 libdecor-0-plugin-1-gtk libdrm-amdgpu1\n",
            "  libdrm-common libdrm-intel1 libdrm-nouveau2 libdrm-radeon1 libdrm2 libepoxy0\n",
            "  libfftw3-double3 libflac12t64 libflite1 libgbm1 libgdk-pixbuf-2.0-0\n",
            "  libgdk-pixbuf2.0-bin libgdk-pixbuf2.0-common libgfortran5 libgl1\n",
            "  libgl1-amber-dri libgl1-mesa-dri libglapi-mesa libglvnd0 libglx-mesa0\n",
            "  libglx0 libgme0 libgsm1 libgtk-3-0t64 libgtk-3-bin libgtk-3-common\n",
            "  libhwy1t64 libiec61883-0 libigdgmm12 libjack-jackd2-0 libjxl0.7 liblapack3\n",
            "  liblcms2-2 liblilv-0-0 libllvm19 libmbedcrypto7t64 libmp3lame0\n",
            "  libmpg123-0t64 libmysofa1 libnorm1t64 libogg0 libopenal-data libopenal1\n",
            "  libopenjp2-7 libopenmpt0t64 libopus0 libpciaccess0 libpgm-5.3-0t64\n",
            "  libplacebo338 libpocketsphinx3 libpostproc57 libpulse0 librabbitmq4\n",
            "  librav1e0 libraw1394-11 librist4 librsvg2-2 librsvg2-common librubberband2\n",
            "  libsamplerate0 libsdl2-2.0-0 libsensors-config libsensors5 libserd-0-0\n",
            "  libshine3 libslang2 libsnappy1v5 libsndfile1 libsndio7.0 libsord-0-0\n",
            "  libsoxr0 libspeex1 libsphinxbase3t64 libsratom-0-0 libsrt1.5-gnutls\n",
            "  libssh-gcrypt-4 libsvtav1enc1d1 libswresample4 libswscale7 libtheora0\n",
            "  libtwolame0 libudfread0 libunibreak5 libusb-1.0-0 libva-drm2 libva-x11-2\n",
            "  libva2 libvdpau1 libvidstab1.1 libvorbis0a libvorbisenc2 libvorbisfile3\n",
            "  libvpl2 libvpx9 libvulkan1 libwayland-client0 libwayland-cursor0\n",
            "  libwayland-egl1 libwayland-server0 libwebpmux3 libx11-xcb1 libx264-164\n",
            "  libx265-199 libxcb-dri2-0 libxcb-dri3-0 libxcb-glx0 libxcb-present0\n",
            "  libxcb-randr0 libxcb-shape0 libxcb-sync1 libxcb-xfixes0 libxcomposite1\n",
            "  libxcursor1 libxdamage1 libxfixes3 libxi6 libxinerama1 libxkbcommon0\n",
            "  libxrandr2 libxshmfence1 libxtst6 libxv1 libxvidcore4 libxxf86vm1 libzimg2\n",
            "  libzix-0-0 libzmq5 libzvbi-common libzvbi0t64 mesa-libgallium\n",
            "  mesa-va-drivers mesa-vdpau-drivers mesa-vulkan-drivers ocl-icd-libopencl1\n",
            "  pocketsphinx-en-us session-migration shared-mime-info ubuntu-mono\n",
            "  va-driver-all vdpau-driver-all xkb-data\n",
            "0 upgraded, 194 newly installed, 0 to remove and 24 not upgraded.\n",
            "Need to get 169 MB of archives.\n",
            "After this operation, 582 MB of additional disk space will be used.\n",
            "Get:1 http://archive.ubuntu.com/ubuntu noble-updates/main amd64 dbus-user-session amd64 1.14.10-4ubuntu4.1 [9968 B]\n",
            "Get:2 http://archive.ubuntu.com/ubuntu noble/main amd64 libslang2 amd64 2.3.3-3build2 [506 kB]\n",
            "Get:3 http://archive.ubuntu.com/ubuntu noble/main amd64 shared-mime-info amd64 2.4-4 [474 kB]\n",
            "Get:4 http://archive.ubuntu.com/ubuntu noble-updates/main amd64 xkb-data all 2.41-2ubuntu1.1 [397 kB]\n",
            "Get:5 http://archive.ubuntu.com/ubuntu noble-updates/main amd64 libdrm-common all 2.4.122-1~ubuntu0.24.04.1 [8406 B]\n",
            "Get:6 http://archive.ubuntu.com/ubuntu noble-updates/main amd64 libdrm2 amd64 2.4.122-1~ubuntu0.24.04.1 [40.6 kB]\n",
            "Get:7 http://archive.ubuntu.com/ubuntu noble/main amd64 libsensors-config all 1:3.6.0-9build1 [5546 B]\n",
            "Get:8 http://archive.ubuntu.com/ubuntu noble/main amd64 libsensors5 amd64 1:3.6.0-9build1 [26.6 kB]\n",
            "Get:9 http://archive.ubuntu.com/ubuntu noble/main amd64 libusb-1.0-0 amd64 2:1.0.27-1 [54.0 kB]\n",
            "Get:10 http://archive.ubuntu.com/ubuntu noble/main amd64 libxkbcommon0 amd64 1.6.0-1build1 [122 kB]\n",
            "Get:11 http://archive.ubuntu.com/ubuntu noble-updates/main amd64 libgdk-pixbuf2.0-common all 2.42.10+dfsg-3ubuntu3.1 [8024 B]\n",
            "Get:12 http://archive.ubuntu.com/ubuntu noble-updates/main amd64 libgdk-pixbuf-2.0-0 amd64 2.42.10+dfsg-3ubuntu3.1 [147 kB]\n",
            "Get:13 http://archive.ubuntu.com/ubuntu noble-updates/main amd64 gtk-update-icon-cache amd64 3.24.41-4ubuntu1.3 [51.9 kB]\n",
            "Get:14 http://archive.ubuntu.com/ubuntu noble/main amd64 hicolor-icon-theme all 0.17-2 [9976 B]\n",
            "Get:15 http://archive.ubuntu.com/ubuntu noble/main amd64 humanity-icon-theme all 0.6.16 [1282 kB]\n",
            "Get:16 http://archive.ubuntu.com/ubuntu noble/main amd64 ubuntu-mono all 24.04-0ubuntu1 [151 kB]\n",
            "Get:17 http://archive.ubuntu.com/ubuntu noble/main amd64 adwaita-icon-theme all 46.0-1 [723 kB]\n",
            "Get:18 http://archive.ubuntu.com/ubuntu noble/main amd64 alsa-topology-conf all 1.2.5.1-2 [15.5 kB]\n",
            "Get:19 http://archive.ubuntu.com/ubuntu noble/main amd64 libasound2-data all 1.2.11-1build2 [21.0 kB]\n",
            "Get:20 http://archive.ubuntu.com/ubuntu noble/main amd64 libasound2t64 amd64 1.2.11-1build2 [399 kB]\n",
            "Get:21 http://archive.ubuntu.com/ubuntu noble-updates/main amd64 alsa-ucm-conf all 1.2.10-1ubuntu5.4 [64.8 kB]\n",
            "Get:22 http://archive.ubuntu.com/ubuntu noble/main amd64 at-spi2-common all 2.52.0-1build1 [8674 B]\n",
            "Get:23 http://archive.ubuntu.com/ubuntu noble/main amd64 libxi6 amd64 2:1.8.1-1build1 [32.4 kB]\n",
            "Get:24 http://archive.ubuntu.com/ubuntu noble/main amd64 libatspi2.0-0t64 amd64 2.52.0-1build1 [80.5 kB]\n",
            "Get:25 http://archive.ubuntu.com/ubuntu noble/main amd64 libxtst6 amd64 2:1.2.3-1.1build1 [12.6 kB]\n",
            "Get:26 http://archive.ubuntu.com/ubuntu noble/main amd64 libdconf1 amd64 0.40.0-4build2 [39.4 kB]\n",
            "Get:27 http://archive.ubuntu.com/ubuntu noble/main amd64 dconf-service amd64 0.40.0-4build2 [27.5 kB]\n",
            "Get:28 http://archive.ubuntu.com/ubuntu noble/main amd64 dconf-gsettings-backend amd64 0.40.0-4build2 [22.1 kB]\n",
            "Get:29 http://archive.ubuntu.com/ubuntu noble/main amd64 session-migration amd64 0.3.9build1 [9034 B]\n",
            "Get:30 http://archive.ubuntu.com/ubuntu noble-updates/main amd64 gsettings-desktop-schemas all 46.1-0ubuntu1 [35.6 kB]\n",
            "Get:31 http://archive.ubuntu.com/ubuntu noble/main amd64 at-spi2-core amd64 2.52.0-1build1 [56.6 kB]\n",
            "Get:32 http://archive.ubuntu.com/ubuntu noble-updates/main amd64 libaom3 amd64 3.8.2-2ubuntu0.1 [1941 kB]\n",
            "Get:33 http://archive.ubuntu.com/ubuntu noble/universe amd64 libva2 amd64 2.20.0-2build1 [66.2 kB]\n",
            "Get:34 http://archive.ubuntu.com/ubuntu noble/universe amd64 libva-drm2 amd64 2.20.0-2build1 [7124 B]\n",
            "Get:35 http://archive.ubuntu.com/ubuntu noble/main amd64 libx11-xcb1 amd64 2:1.8.7-1build1 [7800 B]\n",
            "Get:36 http://archive.ubuntu.com/ubuntu noble/main amd64 libxcb-dri3-0 amd64 1.15-1ubuntu2 [7142 B]\n",
            "Get:37 http://archive.ubuntu.com/ubuntu noble/main amd64 libxfixes3 amd64 1:6.0.0-2build1 [10.8 kB]\n",
            "Get:38 http://archive.ubuntu.com/ubuntu noble/universe amd64 libva-x11-2 amd64 2.20.0-2build1 [12.0 kB]\n",
            "Get:39 http://archive.ubuntu.com/ubuntu noble/main amd64 libvdpau1 amd64 1.5-2build1 [27.8 kB]\n",
            "Get:40 http://archive.ubuntu.com/ubuntu noble/main amd64 libpciaccess0 amd64 0.17-3build1 [18.6 kB]\n",
            "Get:41 http://archive.ubuntu.com/ubuntu noble-updates/main amd64 libdrm-intel1 amd64 2.4.122-1~ubuntu0.24.04.1 [63.8 kB]\n",
            "Get:42 http://archive.ubuntu.com/ubuntu noble/main amd64 libwayland-client0 amd64 1.22.0-2.1build1 [26.4 kB]\n",
            "Get:43 http://archive.ubuntu.com/ubuntu noble/universe amd64 libvpl2 amd64 2023.3.0-1build1 [99.8 kB]\n",
            "Get:44 http://archive.ubuntu.com/ubuntu noble/universe amd64 ocl-icd-libopencl1 amd64 2.3.2-1build1 [38.5 kB]\n",
            "Get:45 http://archive.ubuntu.com/ubuntu noble/universe amd64 libavutil58 amd64 7:6.1.1-3ubuntu5 [401 kB]\n",
            "Get:46 http://archive.ubuntu.com/ubuntu noble/universe amd64 libcodec2-1.2 amd64 1.2.0-2build1 [8998 kB]\n",
            "Get:47 http://archive.ubuntu.com/ubuntu noble/universe amd64 libdav1d7 amd64 1.4.1-1build1 [604 kB]\n",
            "Get:48 http://archive.ubuntu.com/ubuntu noble/universe amd64 libgsm1 amd64 1.0.22-1build1 [27.8 kB]\n",
            "Get:49 http://archive.ubuntu.com/ubuntu noble/universe amd64 libhwy1t64 amd64 1.0.7-8.1build1 [584 kB]\n",
            "Get:50 http://archive.ubuntu.com/ubuntu noble/main amd64 liblcms2-2 amd64 2.14-2build1 [161 kB]\n",
            "Get:51 http://archive.ubuntu.com/ubuntu noble/universe amd64 libjxl0.7 amd64 0.7.0-10.2ubuntu6 [999 kB]\n",
            "Get:52 http://archive.ubuntu.com/ubuntu noble/main amd64 libmp3lame0 amd64 3.100-6build1 [142 kB]\n",
            "Get:53 http://archive.ubuntu.com/ubuntu noble-updates/main amd64 libopenjp2-7 amd64 2.5.0-2ubuntu0.3 [173 kB]\n",
            "Get:54 http://archive.ubuntu.com/ubuntu noble/main amd64 libopus0 amd64 1.4-1build1 [208 kB]\n",
            "Get:55 http://archive.ubuntu.com/ubuntu noble/universe amd64 librav1e0 amd64 0.7.1-2 [1022 kB]\n",
            "Get:56 http://archive.ubuntu.com/ubuntu noble/main amd64 libcairo-gobject2 amd64 1.18.0-3build1 [127 kB]\n",
            "Get:57 http://archive.ubuntu.com/ubuntu noble/main amd64 librsvg2-2 amd64 2.58.0+dfsg-1build1 [2135 kB]\n",
            "Get:58 http://archive.ubuntu.com/ubuntu noble/universe amd64 libshine3 amd64 3.1.1-2build1 [23.2 kB]\n",
            "Get:59 http://archive.ubuntu.com/ubuntu noble/main amd64 libsnappy1v5 amd64 1.1.10-1build1 [28.6 kB]\n",
            "Get:60 http://archive.ubuntu.com/ubuntu noble-updates/main amd64 libspeex1 amd64 1.2.1-2ubuntu2.24.04.1 [59.6 kB]\n",
            "Get:61 http://archive.ubuntu.com/ubuntu noble/universe amd64 libsvtav1enc1d1 amd64 1.7.0+dfsg-2build1 [2425 kB]\n",
            "Get:62 http://archive.ubuntu.com/ubuntu noble/universe amd64 libsoxr0 amd64 0.1.3-4build3 [80.0 kB]\n",
            "Get:63 http://archive.ubuntu.com/ubuntu noble/universe amd64 libswresample4 amd64 7:6.1.1-3ubuntu5 [63.8 kB]\n",
            "Get:64 http://archive.ubuntu.com/ubuntu noble/main amd64 libogg0 amd64 1.3.5-3build1 [22.7 kB]\n",
            "Get:65 http://archive.ubuntu.com/ubuntu noble/main amd64 libtheora0 amd64 1.1.1+dfsg.1-16.1build3 [211 kB]\n",
            "Get:66 http://archive.ubuntu.com/ubuntu noble/main amd64 libtwolame0 amd64 0.4.0-2build3 [52.3 kB]\n",
            "Get:67 http://archive.ubuntu.com/ubuntu noble/main amd64 libvorbis0a amd64 1.3.7-1build3 [97.6 kB]\n",
            "Get:68 http://archive.ubuntu.com/ubuntu noble/main amd64 libvorbisenc2 amd64 1.3.7-1build3 [80.8 kB]\n",
            "Get:69 http://archive.ubuntu.com/ubuntu noble-updates/main amd64 libvpx9 amd64 1.14.0-1ubuntu2.2 [1143 kB]\n",
            "Get:70 http://archive.ubuntu.com/ubuntu noble/main amd64 libwebpmux3 amd64 1.3.2-0.4build3 [25.7 kB]\n",
            "Get:71 http://archive.ubuntu.com/ubuntu noble/universe amd64 libx264-164 amd64 2:0.164.3108+git31e19f9-1 [604 kB]\n",
            "Get:72 http://archive.ubuntu.com/ubuntu noble/universe amd64 libx265-199 amd64 3.5-2build1 [1226 kB]\n",
            "Get:73 http://archive.ubuntu.com/ubuntu noble/universe amd64 libxvidcore4 amd64 2:1.3.7-1build1 [219 kB]\n",
            "Get:74 http://archive.ubuntu.com/ubuntu noble/universe amd64 libzvbi-common all 0.2.42-2 [42.4 kB]\n",
            "Get:75 http://archive.ubuntu.com/ubuntu noble/universe amd64 libzvbi0t64 amd64 0.2.42-2 [261 kB]\n",
            "Get:76 http://archive.ubuntu.com/ubuntu noble/universe amd64 libavcodec60 amd64 7:6.1.1-3ubuntu5 [5851 kB]\n",
            "Get:77 http://archive.ubuntu.com/ubuntu noble/main amd64 libraw1394-11 amd64 2.1.2-2build3 [26.2 kB]\n",
            "Get:78 http://archive.ubuntu.com/ubuntu noble/main amd64 libavc1394-0 amd64 0.5.4-5build3 [15.4 kB]\n",
            "Get:79 http://archive.ubuntu.com/ubuntu noble/universe amd64 libunibreak5 amd64 5.1-2build1 [25.0 kB]\n",
            "Get:80 http://archive.ubuntu.com/ubuntu noble/universe amd64 libass9 amd64 1:0.17.1-2build1 [104 kB]\n",
            "Get:81 http://archive.ubuntu.com/ubuntu noble/universe amd64 libudfread0 amd64 1.1.2-1build1 [19.0 kB]\n",
            "Get:82 http://archive.ubuntu.com/ubuntu noble/universe amd64 libbluray2 amd64 1:1.3.4-1build1 [159 kB]\n",
            "Get:83 http://archive.ubuntu.com/ubuntu noble/universe amd64 libchromaprint1 amd64 1.5.1-5 [30.5 kB]\n",
            "Get:84 http://archive.ubuntu.com/ubuntu noble/universe amd64 libgme0 amd64 0.6.3-7build1 [134 kB]\n",
            "Get:85 http://archive.ubuntu.com/ubuntu noble-updates/main amd64 libmpg123-0t64 amd64 1.32.5-1ubuntu1.1 [169 kB]\n",
            "Get:86 http://archive.ubuntu.com/ubuntu noble/main amd64 libvorbisfile3 amd64 1.3.7-1build3 [17.1 kB]\n",
            "Get:87 http://archive.ubuntu.com/ubuntu noble/universe amd64 libopenmpt0t64 amd64 0.7.3-1.1build3 [647 kB]\n",
            "Get:88 http://archive.ubuntu.com/ubuntu noble/main amd64 librabbitmq4 amd64 0.11.0-1build2 [37.4 kB]\n",
            "Get:89 http://archive.ubuntu.com/ubuntu noble/universe amd64 libcjson1 amd64 1.7.17-1 [24.8 kB]\n",
            "Get:90 http://archive.ubuntu.com/ubuntu noble/universe amd64 libmbedcrypto7t64 amd64 2.28.8-1 [209 kB]\n",
            "Get:91 http://archive.ubuntu.com/ubuntu noble/universe amd64 librist4 amd64 0.2.10+dfsg-2 [74.9 kB]\n",
            "Get:92 http://archive.ubuntu.com/ubuntu noble/universe amd64 libsrt1.5-gnutls amd64 1.5.3-1build2 [316 kB]\n",
            "Get:93 http://archive.ubuntu.com/ubuntu noble/main amd64 libssh-gcrypt-4 amd64 0.10.6-2build2 [223 kB]\n",
            "Get:94 http://archive.ubuntu.com/ubuntu noble/universe amd64 libnorm1t64 amd64 1.5.9+dfsg-3.1build1 [154 kB]\n",
            "Get:95 http://archive.ubuntu.com/ubuntu noble/universe amd64 libpgm-5.3-0t64 amd64 5.3.128~dfsg-2.1build1 [167 kB]\n",
            "Get:96 http://archive.ubuntu.com/ubuntu noble/universe amd64 libzmq5 amd64 4.3.5-1build2 [260 kB]\n",
            "Get:97 http://archive.ubuntu.com/ubuntu noble/universe amd64 libavformat60 amd64 7:6.1.1-3ubuntu5 [1153 kB]\n",
            "Get:98 http://archive.ubuntu.com/ubuntu noble/universe amd64 libbs2b0 amd64 3.1.0+dfsg-7build1 [10.6 kB]\n",
            "Get:99 http://archive.ubuntu.com/ubuntu noble/universe amd64 libflite1 amd64 2.2-6build3 [13.6 MB]\n",
            "Get:100 http://archive.ubuntu.com/ubuntu noble/universe amd64 libserd-0-0 amd64 0.32.2-1 [43.6 kB]\n",
            "Get:101 http://archive.ubuntu.com/ubuntu noble/universe amd64 libzix-0-0 amd64 0.4.2-2build1 [23.6 kB]\n",
            "Get:102 http://archive.ubuntu.com/ubuntu noble/universe amd64 libsord-0-0 amd64 0.16.16-2build1 [15.8 kB]\n",
            "Get:103 http://archive.ubuntu.com/ubuntu noble/universe amd64 libsratom-0-0 amd64 0.6.16-1build1 [17.3 kB]\n",
            "Get:104 http://archive.ubuntu.com/ubuntu noble/universe amd64 liblilv-0-0 amd64 0.24.22-1build1 [41.0 kB]\n",
            "Get:105 http://archive.ubuntu.com/ubuntu noble/universe amd64 libmysofa1 amd64 1.3.2+dfsg-2ubuntu2 [1158 kB]\n",
            "Get:106 http://archive.ubuntu.com/ubuntu noble/main amd64 libvulkan1 amd64 1.3.275.0-1build1 [142 kB]\n",
            "Get:107 http://archive.ubuntu.com/ubuntu noble/universe amd64 libplacebo338 amd64 6.338.2-2build1 [2654 kB]\n",
            "Get:108 http://archive.ubuntu.com/ubuntu noble-updates/main amd64 libblas3 amd64 3.12.0-3build1.1 [238 kB]\n",
            "Get:109 http://archive.ubuntu.com/ubuntu noble-updates/main amd64 libgfortran5 amd64 14.2.0-4ubuntu2~24.04 [916 kB]\n",
            "Get:110 http://archive.ubuntu.com/ubuntu noble-updates/main amd64 liblapack3 amd64 3.12.0-3build1.1 [2646 kB]\n",
            "Get:111 http://archive.ubuntu.com/ubuntu noble/main amd64 libasyncns0 amd64 0.8-6build4 [11.3 kB]\n",
            "Get:112 http://archive.ubuntu.com/ubuntu noble/main amd64 libflac12t64 amd64 1.4.3+ds-2.1ubuntu2 [197 kB]\n",
            "Get:113 http://archive.ubuntu.com/ubuntu noble-updates/main amd64 libsndfile1 amd64 1.2.2-1ubuntu5.24.04.1 [209 kB]\n",
            "Get:114 http://archive.ubuntu.com/ubuntu noble-updates/main amd64 libpulse0 amd64 1:16.1+dfsg1-2ubuntu10.1 [292 kB]\n",
            "Get:115 http://archive.ubuntu.com/ubuntu noble/universe amd64 libsphinxbase3t64 amd64 0.8+5prealpha+1-17build2 [126 kB]\n",
            "Get:116 http://archive.ubuntu.com/ubuntu noble/universe amd64 libpocketsphinx3 amd64 0.8.0+real5prealpha+1-15ubuntu5 [133 kB]\n",
            "Get:117 http://archive.ubuntu.com/ubuntu noble/universe amd64 libpostproc57 amd64 7:6.1.1-3ubuntu5 [49.9 kB]\n",
            "Get:118 http://archive.ubuntu.com/ubuntu noble/main amd64 libfftw3-double3 amd64 3.3.10-1ubuntu3 [838 kB]\n",
            "Get:119 http://archive.ubuntu.com/ubuntu noble/main amd64 libsamplerate0 amd64 0.2.2-4build1 [1344 kB]\n",
            "Get:120 http://archive.ubuntu.com/ubuntu noble/universe amd64 librubberband2 amd64 3.3.0+dfsg-2build1 [130 kB]\n",
            "Get:121 http://archive.ubuntu.com/ubuntu noble/universe amd64 libswscale7 amd64 7:6.1.1-3ubuntu5 [193 kB]\n",
            "Get:122 http://archive.ubuntu.com/ubuntu noble/universe amd64 libvidstab1.1 amd64 1.1.0-2build1 [38.5 kB]\n",
            "Get:123 http://archive.ubuntu.com/ubuntu noble/universe amd64 libzimg2 amd64 3.0.5+ds1-1build1 [254 kB]\n",
            "Get:124 http://archive.ubuntu.com/ubuntu noble/universe amd64 libavfilter9 amd64 7:6.1.1-3ubuntu5 [4235 kB]\n",
            "Get:125 http://archive.ubuntu.com/ubuntu noble/main amd64 libcaca0 amd64 0.99.beta20-4build2 [208 kB]\n",
            "Get:126 http://archive.ubuntu.com/ubuntu noble-updates/main amd64 libcdio19t64 amd64 2.1.0-4.1ubuntu1.2 [62.4 kB]\n",
            "Get:127 http://archive.ubuntu.com/ubuntu noble/main amd64 libcdio-cdda2t64 amd64 10.2+2.0.1-1.1build2 [16.5 kB]\n",
            "Get:128 http://archive.ubuntu.com/ubuntu noble/main amd64 libcdio-paranoia2t64 amd64 10.2+2.0.1-1.1build2 [16.6 kB]\n",
            "Get:129 http://archive.ubuntu.com/ubuntu noble/universe amd64 libdc1394-25 amd64 2.2.6-4build1 [90.1 kB]\n",
            "Get:130 http://archive.ubuntu.com/ubuntu noble/main amd64 libglvnd0 amd64 1.7.0-1build1 [69.6 kB]\n",
            "Get:131 http://archive.ubuntu.com/ubuntu noble-updates/main amd64 libglapi-mesa amd64 24.2.8-1ubuntu1~24.04.1 [44.3 kB]\n",
            "Get:132 http://archive.ubuntu.com/ubuntu noble/main amd64 libxcb-dri2-0 amd64 1.15-1ubuntu2 [7222 B]\n",
            "Get:133 http://archive.ubuntu.com/ubuntu noble/main amd64 libxcb-glx0 amd64 1.15-1ubuntu2 [24.8 kB]\n",
            "Get:134 http://archive.ubuntu.com/ubuntu noble/main amd64 libxcb-present0 amd64 1.15-1ubuntu2 [5676 B]\n",
            "Get:135 http://archive.ubuntu.com/ubuntu noble/main amd64 libxcb-randr0 amd64 1.15-1ubuntu2 [17.9 kB]\n",
            "Get:136 http://archive.ubuntu.com/ubuntu noble/main amd64 libxcb-sync1 amd64 1.15-1ubuntu2 [9312 B]\n",
            "Get:137 http://archive.ubuntu.com/ubuntu noble/main amd64 libxcb-xfixes0 amd64 1.15-1ubuntu2 [10.2 kB]\n",
            "Get:138 http://archive.ubuntu.com/ubuntu noble/main amd64 libxshmfence1 amd64 1.3-1build5 [4764 B]\n",
            "Get:139 http://archive.ubuntu.com/ubuntu noble/main amd64 libxxf86vm1 amd64 1:1.1.4-1build4 [9282 B]\n",
            "Get:140 http://archive.ubuntu.com/ubuntu noble-updates/main amd64 libdrm-amdgpu1 amd64 2.4.122-1~ubuntu0.24.04.1 [20.7 kB]\n",
            "Get:141 http://archive.ubuntu.com/ubuntu noble-updates/main amd64 libdrm-radeon1 amd64 2.4.122-1~ubuntu0.24.04.1 [20.8 kB]\n",
            "Get:142 http://archive.ubuntu.com/ubuntu noble-updates/main amd64 libllvm19 amd64 1:19.1.1-1ubuntu1~24.04.2 [28.7 MB]\n",
            "Get:143 http://archive.ubuntu.com/ubuntu noble-updates/main amd64 mesa-libgallium amd64 24.2.8-1ubuntu1~24.04.1 [9847 kB]\n",
            "Get:144 http://archive.ubuntu.com/ubuntu noble/main amd64 libwayland-server0 amd64 1.22.0-2.1build1 [33.9 kB]\n",
            "Get:145 http://archive.ubuntu.com/ubuntu noble-updates/main amd64 libgbm1 amd64 24.2.8-1ubuntu1~24.04.1 [31.6 kB]\n",
            "Get:146 http://archive.ubuntu.com/ubuntu noble-updates/main amd64 libgl1-mesa-dri amd64 24.2.8-1ubuntu1~24.04.1 [34.6 kB]\n",
            "Get:147 http://archive.ubuntu.com/ubuntu noble-updates/main amd64 libglx-mesa0 amd64 24.2.8-1ubuntu1~24.04.1 [154 kB]\n",
            "Get:148 http://archive.ubuntu.com/ubuntu noble/main amd64 libglx0 amd64 1.7.0-1build1 [38.6 kB]\n",
            "Get:149 http://archive.ubuntu.com/ubuntu noble/main amd64 libgl1 amd64 1.7.0-1build1 [102 kB]\n",
            "Get:150 http://archive.ubuntu.com/ubuntu noble/main amd64 libiec61883-0 amd64 1.2.0-6build1 [24.5 kB]\n",
            "Get:151 http://archive.ubuntu.com/ubuntu noble/main amd64 libjack-jackd2-0 amd64 1.9.21~dfsg-3ubuntu3 [289 kB]\n",
            "Get:152 http://archive.ubuntu.com/ubuntu noble/universe amd64 libopenal-data all 1:1.23.1-4build1 [161 kB]\n",
            "Get:153 http://archive.ubuntu.com/ubuntu noble/universe amd64 libsndio7.0 amd64 1.9.0-0.3build3 [29.6 kB]\n",
            "Get:154 http://archive.ubuntu.com/ubuntu noble/universe amd64 libopenal1 amd64 1:1.23.1-4build1 [540 kB]\n",
            "Get:155 http://archive.ubuntu.com/ubuntu noble/main amd64 libdecor-0-0 amd64 0.2.2-1build2 [16.5 kB]\n",
            "Get:156 http://archive.ubuntu.com/ubuntu noble/main amd64 libwayland-cursor0 amd64 1.22.0-2.1build1 [10.4 kB]\n",
            "Get:157 http://archive.ubuntu.com/ubuntu noble/main amd64 libwayland-egl1 amd64 1.22.0-2.1build1 [5628 B]\n",
            "Get:158 http://archive.ubuntu.com/ubuntu noble/main amd64 libxcursor1 amd64 1:1.2.1-1build1 [20.7 kB]\n",
            "Get:159 http://archive.ubuntu.com/ubuntu noble/main amd64 libxrandr2 amd64 2:1.5.2-2build1 [19.7 kB]\n",
            "Get:160 http://archive.ubuntu.com/ubuntu noble-updates/main amd64 libsdl2-2.0-0 amd64 2.30.0+dfsg-1ubuntu3.1 [686 kB]\n",
            "Get:161 http://archive.ubuntu.com/ubuntu noble/main amd64 libxcb-shape0 amd64 1.15-1ubuntu2 [6100 B]\n",
            "Get:162 http://archive.ubuntu.com/ubuntu noble/main amd64 libxv1 amd64 2:1.0.11-1.1build1 [10.7 kB]\n",
            "Get:163 http://archive.ubuntu.com/ubuntu noble/universe amd64 libavdevice60 amd64 7:6.1.1-3ubuntu5 [82.3 kB]\n",
            "Get:164 http://archive.ubuntu.com/ubuntu noble/universe amd64 ffmpeg amd64 7:6.1.1-3ubuntu5 [1879 kB]\n",
            "Get:165 http://archive.ubuntu.com/ubuntu noble/universe amd64 libigdgmm12 amd64 22.3.17+ds1-1 [145 kB]\n",
            "Get:166 http://archive.ubuntu.com/ubuntu noble/universe amd64 intel-media-va-driver amd64 24.1.0+dfsg1-1 [4022 kB]\n",
            "Get:167 http://archive.ubuntu.com/ubuntu noble/universe amd64 libaacs0 amd64 0.11.1-2build1 [62.9 kB]\n",
            "Get:168 http://archive.ubuntu.com/ubuntu noble/main amd64 libatk1.0-0t64 amd64 2.52.0-1build1 [55.3 kB]\n",
            "Get:169 http://archive.ubuntu.com/ubuntu noble/main amd64 libatk-bridge2.0-0t64 amd64 2.52.0-1build1 [66.0 kB]\n",
            "Get:170 http://archive.ubuntu.com/ubuntu noble/main amd64 libavahi-common-data amd64 0.8-13ubuntu6 [29.7 kB]\n",
            "Get:171 http://archive.ubuntu.com/ubuntu noble/main amd64 libavahi-common3 amd64 0.8-13ubuntu6 [23.3 kB]\n",
            "Get:172 http://archive.ubuntu.com/ubuntu noble/main amd64 libavahi-client3 amd64 0.8-13ubuntu6 [26.8 kB]\n",
            "Get:173 http://archive.ubuntu.com/ubuntu noble/universe amd64 libbdplus0 amd64 0.2.0-3build1 [52.2 kB]\n",
            "Get:174 http://archive.ubuntu.com/ubuntu noble/main amd64 libcolord2 amd64 1.4.7-1build2 [149 kB]\n",
            "Get:175 http://archive.ubuntu.com/ubuntu noble-updates/main amd64 libcups2t64 amd64 2.4.7-1.2ubuntu7.3 [272 kB]\n",
            "Get:176 http://archive.ubuntu.com/ubuntu noble/main amd64 libepoxy0 amd64 1.5.10-1build1 [220 kB]\n",
            "Get:177 http://archive.ubuntu.com/ubuntu noble/main amd64 libxcomposite1 amd64 1:0.4.5-1build3 [6320 B]\n",
            "Get:178 http://archive.ubuntu.com/ubuntu noble/main amd64 libxdamage1 amd64 1:1.1.6-1build1 [6150 B]\n",
            "Get:179 http://archive.ubuntu.com/ubuntu noble/main amd64 libxinerama1 amd64 2:1.1.4-3build1 [6396 B]\n",
            "Get:180 http://archive.ubuntu.com/ubuntu noble-updates/main amd64 libgtk-3-common all 3.24.41-4ubuntu1.3 [1426 kB]\n",
            "Get:181 http://archive.ubuntu.com/ubuntu noble-updates/main amd64 libgtk-3-0t64 amd64 3.24.41-4ubuntu1.3 [2913 kB]\n",
            "Get:182 http://archive.ubuntu.com/ubuntu noble/main amd64 libdecor-0-plugin-1-gtk amd64 0.2.2-1build2 [22.2 kB]\n",
            "Get:183 http://archive.ubuntu.com/ubuntu noble-updates/main amd64 libdrm-nouveau2 amd64 2.4.122-1~ubuntu0.24.04.1 [17.7 kB]\n",
            "Get:184 http://archive.ubuntu.com/ubuntu noble-updates/main amd64 libgdk-pixbuf2.0-bin amd64 2.42.10+dfsg-3ubuntu3.1 [13.9 kB]\n",
            "Get:185 http://archive.ubuntu.com/ubuntu noble/main amd64 libgl1-amber-dri amd64 21.3.9-0ubuntu2 [4212 kB]\n",
            "Get:186 http://archive.ubuntu.com/ubuntu noble-updates/main amd64 libgtk-3-bin amd64 3.24.41-4ubuntu1.3 [73.9 kB]\n",
            "Get:187 http://archive.ubuntu.com/ubuntu noble/main amd64 librsvg2-common amd64 2.58.0+dfsg-1build1 [11.8 kB]\n",
            "Get:188 http://archive.ubuntu.com/ubuntu noble-updates/universe amd64 mesa-va-drivers amd64 24.2.8-1ubuntu1~24.04.1 [19.5 kB]\n",
            "Get:189 http://archive.ubuntu.com/ubuntu noble-updates/main amd64 mesa-vdpau-drivers amd64 24.2.8-1ubuntu1~24.04.1 [19.7 kB]\n",
            "Get:190 http://archive.ubuntu.com/ubuntu noble-updates/main amd64 mesa-vulkan-drivers amd64 24.2.8-1ubuntu1~24.04.1 [14.7 MB]\n",
            "Get:191 http://archive.ubuntu.com/ubuntu noble/universe amd64 i965-va-driver amd64 2.4.1+dfsg1-1build2 [332 kB]\n",
            "Get:192 http://archive.ubuntu.com/ubuntu noble/universe amd64 va-driver-all amd64 2.20.0-2build1 [4844 B]\n",
            "Get:193 http://archive.ubuntu.com/ubuntu noble/main amd64 vdpau-driver-all amd64 1.5-2build1 [4414 B]\n",
            "Get:194 http://archive.ubuntu.com/ubuntu noble/universe amd64 pocketsphinx-en-us all 0.8.0+real5prealpha+1-15ubuntu5 [27.4 MB]\n",
            "Fetched 169 MB in 23s (7253 kB/s)                                              \u001b[0m\u001b[33m\u001b[33m\u001b[33m\u001b[33m\u001b[33m\n",
            "Extracting templates from packages: 100%\n",
            "\n",
            "\u001b7\u001b[0;23r\u001b8\u001b[1ASelecting previously unselected package dbus-user-session.\n",
            "(Reading database ... 58629 files and directories currently installed.)\n",
            "Preparing to unpack .../000-dbus-user-session_1.14.10-4ubuntu4.1_amd64.deb ...\n",
            "\u001b7\u001b[24;0f\u001b[42m\u001b[30mProgress: [  0%]\u001b[49m\u001b[39m [..........................................................] \u001b8Unpacking dbus-user-session (1.14.10-4ubuntu4.1) ...\n",
            "Selecting previously unselected package libslang2:amd64.\n",
            "Preparing to unpack .../001-libslang2_2.3.3-3build2_amd64.deb ...\n",
            "Unpacking libslang2:amd64 (2.3.3-3build2) ...\n",
            "Selecting previously unselected package shared-mime-info.\n",
            "Preparing to unpack .../002-shared-mime-info_2.4-4_amd64.deb ...\n",
            "Unpacking shared-mime-info (2.4-4) ...\n",
            "Selecting previously unselected package xkb-data.\n",
            "Preparing to unpack .../003-xkb-data_2.41-2ubuntu1.1_all.deb ...\n",
            "Unpacking xkb-data (2.41-2ubuntu1.1) ...\n",
            "\u001b7\u001b[24;0f\u001b[42m\u001b[30mProgress: [  1%]\u001b[49m\u001b[39m [..........................................................] \u001b8Selecting previously unselected package libdrm-common.\n",
            "Preparing to unpack .../004-libdrm-common_2.4.122-1~ubuntu0.24.04.1_all.deb ...\n",
            "Unpacking libdrm-common (2.4.122-1~ubuntu0.24.04.1) ...\n",
            "Selecting previously unselected package libdrm2:amd64.\n",
            "Preparing to unpack .../005-libdrm2_2.4.122-1~ubuntu0.24.04.1_amd64.deb ...\n",
            "Unpacking libdrm2:amd64 (2.4.122-1~ubuntu0.24.04.1) ...\n",
            "Selecting previously unselected package libsensors-config.\n",
            "Preparing to unpack .../006-libsensors-config_1%3a3.6.0-9build1_all.deb ...\n",
            "Unpacking libsensors-config (1:3.6.0-9build1) ...\n",
            "Selecting previously unselected package libsensors5:amd64.\n",
            "Preparing to unpack .../007-libsensors5_1%3a3.6.0-9build1_amd64.deb ...\n",
            "Unpacking libsensors5:amd64 (1:3.6.0-9build1) ...\n",
            "\u001b7\u001b[24;0f\u001b[42m\u001b[30mProgress: [  2%]\u001b[49m\u001b[39m [#.........................................................] \u001b8Selecting previously unselected package libusb-1.0-0:amd64.\n",
            "Preparing to unpack .../008-libusb-1.0-0_2%3a1.0.27-1_amd64.deb ...\n",
            "Unpacking libusb-1.0-0:amd64 (2:1.0.27-1) ...\n",
            "Selecting previously unselected package libxkbcommon0:amd64.\n",
            "Preparing to unpack .../009-libxkbcommon0_1.6.0-1build1_amd64.deb ...\n",
            "Unpacking libxkbcommon0:amd64 (1.6.0-1build1) ...\n",
            "Selecting previously unselected package libgdk-pixbuf2.0-common.\n",
            "Preparing to unpack .../010-libgdk-pixbuf2.0-common_2.42.10+dfsg-3ubuntu3.1_all.deb ...\n",
            "Unpacking libgdk-pixbuf2.0-common (2.42.10+dfsg-3ubuntu3.1) ...\n",
            "Selecting previously unselected package libgdk-pixbuf-2.0-0:amd64.\n",
            "Preparing to unpack .../011-libgdk-pixbuf-2.0-0_2.42.10+dfsg-3ubuntu3.1_amd64.deb ...\n",
            "Unpacking libgdk-pixbuf-2.0-0:amd64 (2.42.10+dfsg-3ubuntu3.1) ...\n",
            "\u001b7\u001b[24;0f\u001b[42m\u001b[30mProgress: [  3%]\u001b[49m\u001b[39m [#.........................................................] \u001b8Selecting previously unselected package gtk-update-icon-cache.\n",
            "Preparing to unpack .../012-gtk-update-icon-cache_3.24.41-4ubuntu1.3_amd64.deb ...\n",
            "Unpacking gtk-update-icon-cache (3.24.41-4ubuntu1.3) ...\n",
            "Selecting previously unselected package hicolor-icon-theme.\n",
            "Preparing to unpack .../013-hicolor-icon-theme_0.17-2_all.deb ...\n",
            "Unpacking hicolor-icon-theme (0.17-2) ...\n",
            "Selecting previously unselected package humanity-icon-theme.\n",
            "Preparing to unpack .../014-humanity-icon-theme_0.6.16_all.deb ...\n",
            "Unpacking humanity-icon-theme (0.6.16) ...\n",
            "Selecting previously unselected package ubuntu-mono.\n",
            "Preparing to unpack .../015-ubuntu-mono_24.04-0ubuntu1_all.deb ...\n",
            "Unpacking ubuntu-mono (24.04-0ubuntu1) ...\n",
            "\u001b7\u001b[24;0f\u001b[42m\u001b[30mProgress: [  4%]\u001b[49m\u001b[39m [##........................................................] \u001b8Selecting previously unselected package adwaita-icon-theme.\n",
            "Preparing to unpack .../016-adwaita-icon-theme_46.0-1_all.deb ...\n",
            "Unpacking adwaita-icon-theme (46.0-1) ...\n",
            "Selecting previously unselected package alsa-topology-conf.\n",
            "Preparing to unpack .../017-alsa-topology-conf_1.2.5.1-2_all.deb ...\n",
            "Unpacking alsa-topology-conf (1.2.5.1-2) ...\n",
            "Selecting previously unselected package libasound2-data.\n",
            "Preparing to unpack .../018-libasound2-data_1.2.11-1build2_all.deb ...\n",
            "Unpacking libasound2-data (1.2.11-1build2) ...\n",
            "Selecting previously unselected package libasound2t64:amd64.\n",
            "Preparing to unpack .../019-libasound2t64_1.2.11-1build2_amd64.deb ...\n",
            "\u001b7\u001b[24;0f\u001b[42m\u001b[30mProgress: [  5%]\u001b[49m\u001b[39m [##........................................................] \u001b8Unpacking libasound2t64:amd64 (1.2.11-1build2) ...\n",
            "Selecting previously unselected package alsa-ucm-conf.\n",
            "Preparing to unpack .../020-alsa-ucm-conf_1.2.10-1ubuntu5.4_all.deb ...\n",
            "Unpacking alsa-ucm-conf (1.2.10-1ubuntu5.4) ...\n",
            "Selecting previously unselected package at-spi2-common.\n",
            "Preparing to unpack .../021-at-spi2-common_2.52.0-1build1_all.deb ...\n",
            "Unpacking at-spi2-common (2.52.0-1build1) ...\n",
            "Selecting previously unselected package libxi6:amd64.\n",
            "Preparing to unpack .../022-libxi6_2%3a1.8.1-1build1_amd64.deb ...\n",
            "Unpacking libxi6:amd64 (2:1.8.1-1build1) ...\n",
            "Selecting previously unselected package libatspi2.0-0t64:amd64.\n",
            "Preparing to unpack .../023-libatspi2.0-0t64_2.52.0-1build1_amd64.deb ...\n",
            "\u001b7\u001b[24;0f\u001b[42m\u001b[30mProgress: [  6%]\u001b[49m\u001b[39m [###.......................................................] \u001b8Unpacking libatspi2.0-0t64:amd64 (2.52.0-1build1) ...\n",
            "Selecting previously unselected package libxtst6:amd64.\n",
            "Preparing to unpack .../024-libxtst6_2%3a1.2.3-1.1build1_amd64.deb ...\n",
            "Unpacking libxtst6:amd64 (2:1.2.3-1.1build1) ...\n",
            "Selecting previously unselected package libdconf1:amd64.\n",
            "Preparing to unpack .../025-libdconf1_0.40.0-4build2_amd64.deb ...\n",
            "Unpacking libdconf1:amd64 (0.40.0-4build2) ...\n",
            "Selecting previously unselected package dconf-service.\n",
            "Preparing to unpack .../026-dconf-service_0.40.0-4build2_amd64.deb ...\n",
            "Unpacking dconf-service (0.40.0-4build2) ...\n",
            "Selecting previously unselected package dconf-gsettings-backend:amd64.\n",
            "Preparing to unpack .../027-dconf-gsettings-backend_0.40.0-4build2_amd64.deb ...\n",
            "\u001b7\u001b[24;0f\u001b[42m\u001b[30mProgress: [  7%]\u001b[49m\u001b[39m [####......................................................] \u001b8Unpacking dconf-gsettings-backend:amd64 (0.40.0-4build2) ...\n",
            "Selecting previously unselected package session-migration.\n",
            "Preparing to unpack .../028-session-migration_0.3.9build1_amd64.deb ...\n",
            "Unpacking session-migration (0.3.9build1) ...\n",
            "Selecting previously unselected package gsettings-desktop-schemas.\n",
            "Preparing to unpack .../029-gsettings-desktop-schemas_46.1-0ubuntu1_all.deb ...\n",
            "Unpacking gsettings-desktop-schemas (46.1-0ubuntu1) ...\n",
            "Selecting previously unselected package at-spi2-core.\n",
            "Preparing to unpack .../030-at-spi2-core_2.52.0-1build1_amd64.deb ...\n",
            "Unpacking at-spi2-core (2.52.0-1build1) ...\n",
            "Selecting previously unselected package libaom3:amd64.\n",
            "Preparing to unpack .../031-libaom3_3.8.2-2ubuntu0.1_amd64.deb ...\n",
            "\u001b7\u001b[24;0f\u001b[42m\u001b[30mProgress: [  8%]\u001b[49m\u001b[39m [####......................................................] \u001b8Unpacking libaom3:amd64 (3.8.2-2ubuntu0.1) ...\n",
            "Selecting previously unselected package libva2:amd64.\n",
            "Preparing to unpack .../032-libva2_2.20.0-2build1_amd64.deb ...\n",
            "Unpacking libva2:amd64 (2.20.0-2build1) ...\n",
            "Selecting previously unselected package libva-drm2:amd64.\n",
            "Preparing to unpack .../033-libva-drm2_2.20.0-2build1_amd64.deb ...\n",
            "Unpacking libva-drm2:amd64 (2.20.0-2build1) ...\n",
            "Selecting previously unselected package libx11-xcb1:amd64.\n",
            "Preparing to unpack .../034-libx11-xcb1_2%3a1.8.7-1build1_amd64.deb ...\n",
            "Unpacking libx11-xcb1:amd64 (2:1.8.7-1build1) ...\n",
            "Selecting previously unselected package libxcb-dri3-0:amd64.\n",
            "Preparing to unpack .../035-libxcb-dri3-0_1.15-1ubuntu2_amd64.deb ...\n",
            "\u001b7\u001b[24;0f\u001b[42m\u001b[30mProgress: [  9%]\u001b[49m\u001b[39m [#####.....................................................] \u001b8Unpacking libxcb-dri3-0:amd64 (1.15-1ubuntu2) ...\n",
            "Selecting previously unselected package libxfixes3:amd64.\n",
            "Preparing to unpack .../036-libxfixes3_1%3a6.0.0-2build1_amd64.deb ...\n",
            "Unpacking libxfixes3:amd64 (1:6.0.0-2build1) ...\n",
            "Selecting previously unselected package libva-x11-2:amd64.\n",
            "Preparing to unpack .../037-libva-x11-2_2.20.0-2build1_amd64.deb ...\n",
            "Unpacking libva-x11-2:amd64 (2.20.0-2build1) ...\n",
            "Selecting previously unselected package libvdpau1:amd64.\n",
            "Preparing to unpack .../038-libvdpau1_1.5-2build1_amd64.deb ...\n",
            "Unpacking libvdpau1:amd64 (1.5-2build1) ...\n",
            "\u001b7\u001b[24;0f\u001b[42m\u001b[30mProgress: [ 10%]\u001b[49m\u001b[39m [#####.....................................................] \u001b8Selecting previously unselected package libpciaccess0:amd64.\n",
            "Preparing to unpack .../039-libpciaccess0_0.17-3build1_amd64.deb ...\n",
            "Unpacking libpciaccess0:amd64 (0.17-3build1) ...\n",
            "Selecting previously unselected package libdrm-intel1:amd64.\n",
            "Preparing to unpack .../040-libdrm-intel1_2.4.122-1~ubuntu0.24.04.1_amd64.deb ...\n",
            "Unpacking libdrm-intel1:amd64 (2.4.122-1~ubuntu0.24.04.1) ...\n",
            "Selecting previously unselected package libwayland-client0:amd64.\n",
            "Preparing to unpack .../041-libwayland-client0_1.22.0-2.1build1_amd64.deb ...\n",
            "Unpacking libwayland-client0:amd64 (1.22.0-2.1build1) ...\n",
            "Selecting previously unselected package libvpl2.\n",
            "Preparing to unpack .../042-libvpl2_2023.3.0-1build1_amd64.deb ...\n",
            "Unpacking libvpl2 (2023.3.0-1build1) ...\n",
            "\u001b7\u001b[24;0f\u001b[42m\u001b[30mProgress: [ 11%]\u001b[49m\u001b[39m [######....................................................] \u001b8Selecting previously unselected package ocl-icd-libopencl1:amd64.\n",
            "Preparing to unpack .../043-ocl-icd-libopencl1_2.3.2-1build1_amd64.deb ...\n",
            "Unpacking ocl-icd-libopencl1:amd64 (2.3.2-1build1) ...\n",
            "Selecting previously unselected package libavutil58:amd64.\n",
            "Preparing to unpack .../044-libavutil58_7%3a6.1.1-3ubuntu5_amd64.deb ...\n",
            "Unpacking libavutil58:amd64 (7:6.1.1-3ubuntu5) ...\n",
            "Selecting previously unselected package libcodec2-1.2:amd64.\n",
            "Preparing to unpack .../045-libcodec2-1.2_1.2.0-2build1_amd64.deb ...\n",
            "Unpacking libcodec2-1.2:amd64 (1.2.0-2build1) ...\n",
            "Selecting previously unselected package libdav1d7:amd64.\n",
            "Preparing to unpack .../046-libdav1d7_1.4.1-1build1_amd64.deb ...\n",
            "Unpacking libdav1d7:amd64 (1.4.1-1build1) ...\n",
            "\u001b7\u001b[24;0f\u001b[42m\u001b[30mProgress: [ 12%]\u001b[49m\u001b[39m [######....................................................] \u001b8Selecting previously unselected package libgsm1:amd64.\n",
            "Preparing to unpack .../047-libgsm1_1.0.22-1build1_amd64.deb ...\n",
            "Unpacking libgsm1:amd64 (1.0.22-1build1) ...\n",
            "Selecting previously unselected package libhwy1t64:amd64.\n",
            "Preparing to unpack .../048-libhwy1t64_1.0.7-8.1build1_amd64.deb ...\n",
            "Unpacking libhwy1t64:amd64 (1.0.7-8.1build1) ...\n",
            "Selecting previously unselected package liblcms2-2:amd64.\n",
            "Preparing to unpack .../049-liblcms2-2_2.14-2build1_amd64.deb ...\n",
            "Unpacking liblcms2-2:amd64 (2.14-2build1) ...\n",
            "Selecting previously unselected package libjxl0.7:amd64.\n",
            "Preparing to unpack .../050-libjxl0.7_0.7.0-10.2ubuntu6_amd64.deb ...\n",
            "Unpacking libjxl0.7:amd64 (0.7.0-10.2ubuntu6) ...\n",
            "\u001b7\u001b[24;0f\u001b[42m\u001b[30mProgress: [ 13%]\u001b[49m\u001b[39m [#######...................................................] \u001b8Selecting previously unselected package libmp3lame0:amd64.\n",
            "Preparing to unpack .../051-libmp3lame0_3.100-6build1_amd64.deb ...\n",
            "Unpacking libmp3lame0:amd64 (3.100-6build1) ...\n",
            "Selecting previously unselected package libopenjp2-7:amd64.\n",
            "Preparing to unpack .../052-libopenjp2-7_2.5.0-2ubuntu0.3_amd64.deb ...\n",
            "Unpacking libopenjp2-7:amd64 (2.5.0-2ubuntu0.3) ...\n",
            "Selecting previously unselected package libopus0:amd64.\n",
            "Preparing to unpack .../053-libopus0_1.4-1build1_amd64.deb ...\n",
            "Unpacking libopus0:amd64 (1.4-1build1) ...\n",
            "Selecting previously unselected package librav1e0:amd64.\n",
            "Preparing to unpack .../054-librav1e0_0.7.1-2_amd64.deb ...\n",
            "Unpacking librav1e0:amd64 (0.7.1-2) ...\n",
            "\u001b7\u001b[24;0f\u001b[42m\u001b[30mProgress: [ 14%]\u001b[49m\u001b[39m [########..................................................] \u001b8Selecting previously unselected package libcairo-gobject2:amd64.\n",
            "Preparing to unpack .../055-libcairo-gobject2_1.18.0-3build1_amd64.deb ...\n",
            "Unpacking libcairo-gobject2:amd64 (1.18.0-3build1) ...\n",
            "Selecting previously unselected package librsvg2-2:amd64.\n",
            "Preparing to unpack .../056-librsvg2-2_2.58.0+dfsg-1build1_amd64.deb ...\n",
            "Unpacking librsvg2-2:amd64 (2.58.0+dfsg-1build1) ...\n",
            "Selecting previously unselected package libshine3:amd64.\n",
            "Preparing to unpack .../057-libshine3_3.1.1-2build1_amd64.deb ...\n",
            "Unpacking libshine3:amd64 (3.1.1-2build1) ...\n",
            "Selecting previously unselected package libsnappy1v5:amd64.\n",
            "Preparing to unpack .../058-libsnappy1v5_1.1.10-1build1_amd64.deb ...\n",
            "\u001b7\u001b[24;0f\u001b[42m\u001b[30mProgress: [ 15%]\u001b[49m\u001b[39m [########..................................................] \u001b8Unpacking libsnappy1v5:amd64 (1.1.10-1build1) ...\n",
            "Selecting previously unselected package libspeex1:amd64.\n",
            "Preparing to unpack .../059-libspeex1_1.2.1-2ubuntu2.24.04.1_amd64.deb ...\n",
            "Unpacking libspeex1:amd64 (1.2.1-2ubuntu2.24.04.1) ...\n",
            "Selecting previously unselected package libsvtav1enc1d1:amd64.\n",
            "Preparing to unpack .../060-libsvtav1enc1d1_1.7.0+dfsg-2build1_amd64.deb ...\n",
            "Unpacking libsvtav1enc1d1:amd64 (1.7.0+dfsg-2build1) ...\n",
            "Selecting previously unselected package libsoxr0:amd64.\n",
            "Preparing to unpack .../061-libsoxr0_0.1.3-4build3_amd64.deb ...\n",
            "Unpacking libsoxr0:amd64 (0.1.3-4build3) ...\n",
            "Selecting previously unselected package libswresample4:amd64.\n",
            "Preparing to unpack .../062-libswresample4_7%3a6.1.1-3ubuntu5_amd64.deb ...\n",
            "\u001b7\u001b[24;0f\u001b[42m\u001b[30mProgress: [ 16%]\u001b[49m\u001b[39m [#########.................................................] \u001b8Unpacking libswresample4:amd64 (7:6.1.1-3ubuntu5) ...\n",
            "Selecting previously unselected package libogg0:amd64.\n",
            "Preparing to unpack .../063-libogg0_1.3.5-3build1_amd64.deb ...\n",
            "Unpacking libogg0:amd64 (1.3.5-3build1) ...\n",
            "Selecting previously unselected package libtheora0:amd64.\n",
            "Preparing to unpack .../064-libtheora0_1.1.1+dfsg.1-16.1build3_amd64.deb ...\n",
            "Unpacking libtheora0:amd64 (1.1.1+dfsg.1-16.1build3) ...\n",
            "Selecting previously unselected package libtwolame0:amd64.\n",
            "Preparing to unpack .../065-libtwolame0_0.4.0-2build3_amd64.deb ...\n",
            "Unpacking libtwolame0:amd64 (0.4.0-2build3) ...\n",
            "Selecting previously unselected package libvorbis0a:amd64.\n",
            "Preparing to unpack .../066-libvorbis0a_1.3.7-1build3_amd64.deb ...\n",
            "\u001b7\u001b[24;0f\u001b[42m\u001b[30mProgress: [ 17%]\u001b[49m\u001b[39m [#########.................................................] \u001b8Unpacking libvorbis0a:amd64 (1.3.7-1build3) ...\n",
            "Selecting previously unselected package libvorbisenc2:amd64.\n",
            "Preparing to unpack .../067-libvorbisenc2_1.3.7-1build3_amd64.deb ...\n",
            "Unpacking libvorbisenc2:amd64 (1.3.7-1build3) ...\n",
            "Selecting previously unselected package libvpx9:amd64.\n",
            "Preparing to unpack .../068-libvpx9_1.14.0-1ubuntu2.2_amd64.deb ...\n",
            "Unpacking libvpx9:amd64 (1.14.0-1ubuntu2.2) ...\n",
            "Selecting previously unselected package libwebpmux3:amd64.\n",
            "Preparing to unpack .../069-libwebpmux3_1.3.2-0.4build3_amd64.deb ...\n",
            "Unpacking libwebpmux3:amd64 (1.3.2-0.4build3) ...\n",
            "Selecting previously unselected package libx264-164:amd64.\n",
            "Preparing to unpack .../070-libx264-164_2%3a0.164.3108+git31e19f9-1_amd64.deb ...\n",
            "\u001b7\u001b[24;0f\u001b[42m\u001b[30mProgress: [ 18%]\u001b[49m\u001b[39m [##########................................................] \u001b8Unpacking libx264-164:amd64 (2:0.164.3108+git31e19f9-1) ...\n",
            "Selecting previously unselected package libx265-199:amd64.\n",
            "Preparing to unpack .../071-libx265-199_3.5-2build1_amd64.deb ...\n",
            "Unpacking libx265-199:amd64 (3.5-2build1) ...\n",
            "Selecting previously unselected package libxvidcore4:amd64.\n",
            "Preparing to unpack .../072-libxvidcore4_2%3a1.3.7-1build1_amd64.deb ...\n",
            "Unpacking libxvidcore4:amd64 (2:1.3.7-1build1) ...\n",
            "Selecting previously unselected package libzvbi-common.\n",
            "Preparing to unpack .../073-libzvbi-common_0.2.42-2_all.deb ...\n",
            "Unpacking libzvbi-common (0.2.42-2) ...\n",
            "Selecting previously unselected package libzvbi0t64:amd64.\n",
            "Preparing to unpack .../074-libzvbi0t64_0.2.42-2_amd64.deb ...\n",
            "\u001b7\u001b[24;0f\u001b[42m\u001b[30mProgress: [ 19%]\u001b[49m\u001b[39m [###########...............................................] \u001b8Unpacking libzvbi0t64:amd64 (0.2.42-2) ...\n",
            "Selecting previously unselected package libavcodec60:amd64.\n",
            "Preparing to unpack .../075-libavcodec60_7%3a6.1.1-3ubuntu5_amd64.deb ...\n",
            "Unpacking libavcodec60:amd64 (7:6.1.1-3ubuntu5) ...\n",
            "Selecting previously unselected package libraw1394-11:amd64.\n",
            "Preparing to unpack .../076-libraw1394-11_2.1.2-2build3_amd64.deb ...\n",
            "Unpacking libraw1394-11:amd64 (2.1.2-2build3) ...\n",
            "Selecting previously unselected package libavc1394-0:amd64.\n",
            "Preparing to unpack .../077-libavc1394-0_0.5.4-5build3_amd64.deb ...\n",
            "Unpacking libavc1394-0:amd64 (0.5.4-5build3) ...\n",
            "\u001b7\u001b[24;0f\u001b[42m\u001b[30mProgress: [ 20%]\u001b[49m\u001b[39m [###########...............................................] \u001b8Selecting previously unselected package libunibreak5:amd64.\n",
            "Preparing to unpack .../078-libunibreak5_5.1-2build1_amd64.deb ...\n",
            "Unpacking libunibreak5:amd64 (5.1-2build1) ...\n",
            "Selecting previously unselected package libass9:amd64.\n",
            "Preparing to unpack .../079-libass9_1%3a0.17.1-2build1_amd64.deb ...\n",
            "Unpacking libass9:amd64 (1:0.17.1-2build1) ...\n",
            "Selecting previously unselected package libudfread0:amd64.\n",
            "Preparing to unpack .../080-libudfread0_1.1.2-1build1_amd64.deb ...\n",
            "Unpacking libudfread0:amd64 (1.1.2-1build1) ...\n",
            "Selecting previously unselected package libbluray2:amd64.\n",
            "Preparing to unpack .../081-libbluray2_1%3a1.3.4-1build1_amd64.deb ...\n",
            "Unpacking libbluray2:amd64 (1:1.3.4-1build1) ...\n",
            "\u001b7\u001b[24;0f\u001b[42m\u001b[30mProgress: [ 21%]\u001b[49m\u001b[39m [############..............................................] \u001b8Selecting previously unselected package libchromaprint1:amd64.\n",
            "Preparing to unpack .../082-libchromaprint1_1.5.1-5_amd64.deb ...\n",
            "Unpacking libchromaprint1:amd64 (1.5.1-5) ...\n",
            "Selecting previously unselected package libgme0:amd64.\n",
            "Preparing to unpack .../083-libgme0_0.6.3-7build1_amd64.deb ...\n",
            "Unpacking libgme0:amd64 (0.6.3-7build1) ...\n",
            "Selecting previously unselected package libmpg123-0t64:amd64.\n",
            "Preparing to unpack .../084-libmpg123-0t64_1.32.5-1ubuntu1.1_amd64.deb ...\n",
            "Unpacking libmpg123-0t64:amd64 (1.32.5-1ubuntu1.1) ...\n",
            "Selecting previously unselected package libvorbisfile3:amd64.\n",
            "Preparing to unpack .../085-libvorbisfile3_1.3.7-1build3_amd64.deb ...\n",
            "Unpacking libvorbisfile3:amd64 (1.3.7-1build3) ...\n",
            "\u001b7\u001b[24;0f\u001b[42m\u001b[30mProgress: [ 22%]\u001b[49m\u001b[39m [############..............................................] \u001b8Selecting previously unselected package libopenmpt0t64:amd64.\n",
            "Preparing to unpack .../086-libopenmpt0t64_0.7.3-1.1build3_amd64.deb ...\n",
            "Unpacking libopenmpt0t64:amd64 (0.7.3-1.1build3) ...\n",
            "Selecting previously unselected package librabbitmq4:amd64.\n",
            "Preparing to unpack .../087-librabbitmq4_0.11.0-1build2_amd64.deb ...\n",
            "Unpacking librabbitmq4:amd64 (0.11.0-1build2) ...\n",
            "Selecting previously unselected package libcjson1:amd64.\n",
            "Preparing to unpack .../088-libcjson1_1.7.17-1_amd64.deb ...\n",
            "Unpacking libcjson1:amd64 (1.7.17-1) ...\n",
            "Selecting previously unselected package libmbedcrypto7t64:amd64.\n",
            "Preparing to unpack .../089-libmbedcrypto7t64_2.28.8-1_amd64.deb ...\n",
            "Unpacking libmbedcrypto7t64:amd64 (2.28.8-1) ...\n",
            "\u001b7\u001b[24;0f\u001b[42m\u001b[30mProgress: [ 23%]\u001b[49m\u001b[39m [#############.............................................] \u001b8Selecting previously unselected package librist4:amd64.\n",
            "Preparing to unpack .../090-librist4_0.2.10+dfsg-2_amd64.deb ...\n",
            "Unpacking librist4:amd64 (0.2.10+dfsg-2) ...\n",
            "Selecting previously unselected package libsrt1.5-gnutls:amd64.\n",
            "Preparing to unpack .../091-libsrt1.5-gnutls_1.5.3-1build2_amd64.deb ...\n",
            "Unpacking libsrt1.5-gnutls:amd64 (1.5.3-1build2) ...\n",
            "Selecting previously unselected package libssh-gcrypt-4:amd64.\n",
            "Preparing to unpack .../092-libssh-gcrypt-4_0.10.6-2build2_amd64.deb ...\n",
            "Unpacking libssh-gcrypt-4:amd64 (0.10.6-2build2) ...\n",
            "Selecting previously unselected package libnorm1t64:amd64.\n",
            "Preparing to unpack .../093-libnorm1t64_1.5.9+dfsg-3.1build1_amd64.deb ...\n",
            "\u001b7\u001b[24;0f\u001b[42m\u001b[30mProgress: [ 24%]\u001b[49m\u001b[39m [#############.............................................] \u001b8Unpacking libnorm1t64:amd64 (1.5.9+dfsg-3.1build1) ...\n",
            "Selecting previously unselected package libpgm-5.3-0t64:amd64.\n",
            "Preparing to unpack .../094-libpgm-5.3-0t64_5.3.128~dfsg-2.1build1_amd64.deb ...\n",
            "Unpacking libpgm-5.3-0t64:amd64 (5.3.128~dfsg-2.1build1) ...\n",
            "Selecting previously unselected package libzmq5:amd64.\n",
            "Preparing to unpack .../095-libzmq5_4.3.5-1build2_amd64.deb ...\n",
            "Unpacking libzmq5:amd64 (4.3.5-1build2) ...\n",
            "Selecting previously unselected package libavformat60:amd64.\n",
            "Preparing to unpack .../096-libavformat60_7%3a6.1.1-3ubuntu5_amd64.deb ...\n",
            "Unpacking libavformat60:amd64 (7:6.1.1-3ubuntu5) ...\n",
            "Selecting previously unselected package libbs2b0:amd64.\n",
            "Preparing to unpack .../097-libbs2b0_3.1.0+dfsg-7build1_amd64.deb ...\n",
            "\u001b7\u001b[24;0f\u001b[42m\u001b[30mProgress: [ 25%]\u001b[49m\u001b[39m [##############............................................] \u001b8Unpacking libbs2b0:amd64 (3.1.0+dfsg-7build1) ...\n",
            "Selecting previously unselected package libflite1:amd64.\n",
            "Preparing to unpack .../098-libflite1_2.2-6build3_amd64.deb ...\n",
            "Unpacking libflite1:amd64 (2.2-6build3) ...\n",
            "Selecting previously unselected package libserd-0-0:amd64.\n",
            "Preparing to unpack .../099-libserd-0-0_0.32.2-1_amd64.deb ...\n",
            "Unpacking libserd-0-0:amd64 (0.32.2-1) ...\n",
            "Selecting previously unselected package libzix-0-0:amd64.\n",
            "Preparing to unpack .../100-libzix-0-0_0.4.2-2build1_amd64.deb ...\n",
            "Unpacking libzix-0-0:amd64 (0.4.2-2build1) ...\n",
            "Selecting previously unselected package libsord-0-0:amd64.\n",
            "Preparing to unpack .../101-libsord-0-0_0.16.16-2build1_amd64.deb ...\n",
            "\u001b7\u001b[24;0f\u001b[42m\u001b[30mProgress: [ 26%]\u001b[49m\u001b[39m [###############...........................................] \u001b8Unpacking libsord-0-0:amd64 (0.16.16-2build1) ...\n",
            "Selecting previously unselected package libsratom-0-0:amd64.\n",
            "Preparing to unpack .../102-libsratom-0-0_0.6.16-1build1_amd64.deb ...\n",
            "Unpacking libsratom-0-0:amd64 (0.6.16-1build1) ...\n",
            "Selecting previously unselected package liblilv-0-0:amd64.\n",
            "Preparing to unpack .../103-liblilv-0-0_0.24.22-1build1_amd64.deb ...\n",
            "Unpacking liblilv-0-0:amd64 (0.24.22-1build1) ...\n",
            "Selecting previously unselected package libmysofa1:amd64.\n",
            "Preparing to unpack .../104-libmysofa1_1.3.2+dfsg-2ubuntu2_amd64.deb ...\n",
            "Unpacking libmysofa1:amd64 (1.3.2+dfsg-2ubuntu2) ...\n",
            "Selecting previously unselected package libvulkan1:amd64.\n",
            "Preparing to unpack .../105-libvulkan1_1.3.275.0-1build1_amd64.deb ...\n",
            "\u001b7\u001b[24;0f\u001b[42m\u001b[30mProgress: [ 27%]\u001b[49m\u001b[39m [###############...........................................] \u001b8Unpacking libvulkan1:amd64 (1.3.275.0-1build1) ...\n",
            "Selecting previously unselected package libplacebo338:amd64.\n",
            "Preparing to unpack .../106-libplacebo338_6.338.2-2build1_amd64.deb ...\n",
            "Unpacking libplacebo338:amd64 (6.338.2-2build1) ...\n",
            "Selecting previously unselected package libblas3:amd64.\n",
            "Preparing to unpack .../107-libblas3_3.12.0-3build1.1_amd64.deb ...\n",
            "Unpacking libblas3:amd64 (3.12.0-3build1.1) ...\n",
            "Selecting previously unselected package libgfortran5:amd64.\n",
            "Preparing to unpack .../108-libgfortran5_14.2.0-4ubuntu2~24.04_amd64.deb ...\n",
            "Unpacking libgfortran5:amd64 (14.2.0-4ubuntu2~24.04) ...\n",
            "Selecting previously unselected package liblapack3:amd64.\n",
            "Preparing to unpack .../109-liblapack3_3.12.0-3build1.1_amd64.deb ...\n",
            "\u001b7\u001b[24;0f\u001b[42m\u001b[30mProgress: [ 28%]\u001b[49m\u001b[39m [################..........................................] \u001b8Unpacking liblapack3:amd64 (3.12.0-3build1.1) ...\n",
            "Selecting previously unselected package libasyncns0:amd64.\n",
            "Preparing to unpack .../110-libasyncns0_0.8-6build4_amd64.deb ...\n",
            "Unpacking libasyncns0:amd64 (0.8-6build4) ...\n",
            "Selecting previously unselected package libflac12t64:amd64.\n",
            "Preparing to unpack .../111-libflac12t64_1.4.3+ds-2.1ubuntu2_amd64.deb ...\n",
            "Unpacking libflac12t64:amd64 (1.4.3+ds-2.1ubuntu2) ...\n",
            "Selecting previously unselected package libsndfile1:amd64.\n",
            "Preparing to unpack .../112-libsndfile1_1.2.2-1ubuntu5.24.04.1_amd64.deb ...\n",
            "Unpacking libsndfile1:amd64 (1.2.2-1ubuntu5.24.04.1) ...\n",
            "\u001b7\u001b[24;0f\u001b[42m\u001b[30mProgress: [ 29%]\u001b[49m\u001b[39m [################..........................................] \u001b8Selecting previously unselected package libpulse0:amd64.\n",
            "Preparing to unpack .../113-libpulse0_1%3a16.1+dfsg1-2ubuntu10.1_amd64.deb ...\n",
            "Unpacking libpulse0:amd64 (1:16.1+dfsg1-2ubuntu10.1) ...\n",
            "Selecting previously unselected package libsphinxbase3t64:amd64.\n",
            "Preparing to unpack .../114-libsphinxbase3t64_0.8+5prealpha+1-17build2_amd64.deb ...\n",
            "Unpacking libsphinxbase3t64:amd64 (0.8+5prealpha+1-17build2) ...\n",
            "Selecting previously unselected package libpocketsphinx3:amd64.\n",
            "Preparing to unpack .../115-libpocketsphinx3_0.8.0+real5prealpha+1-15ubuntu5_amd64.deb ...\n",
            "Unpacking libpocketsphinx3:amd64 (0.8.0+real5prealpha+1-15ubuntu5) ...\n",
            "Selecting previously unselected package libpostproc57:amd64.\n",
            "Preparing to unpack .../116-libpostproc57_7%3a6.1.1-3ubuntu5_amd64.deb ...\n",
            "Unpacking libpostproc57:amd64 (7:6.1.1-3ubuntu5) ...\n",
            "\u001b7\u001b[24;0f\u001b[42m\u001b[30mProgress: [ 30%]\u001b[49m\u001b[39m [#################.........................................] \u001b8Selecting previously unselected package libfftw3-double3:amd64.\n",
            "Preparing to unpack .../117-libfftw3-double3_3.3.10-1ubuntu3_amd64.deb ...\n",
            "Unpacking libfftw3-double3:amd64 (3.3.10-1ubuntu3) ...\n",
            "Selecting previously unselected package libsamplerate0:amd64.\n",
            "Preparing to unpack .../118-libsamplerate0_0.2.2-4build1_amd64.deb ...\n",
            "Unpacking libsamplerate0:amd64 (0.2.2-4build1) ...\n",
            "Selecting previously unselected package librubberband2:amd64.\n",
            "Preparing to unpack .../119-librubberband2_3.3.0+dfsg-2build1_amd64.deb ...\n",
            "Unpacking librubberband2:amd64 (3.3.0+dfsg-2build1) ...\n",
            "Selecting previously unselected package libswscale7:amd64.\n",
            "Preparing to unpack .../120-libswscale7_7%3a6.1.1-3ubuntu5_amd64.deb ...\n",
            "Unpacking libswscale7:amd64 (7:6.1.1-3ubuntu5) ...\n",
            "\u001b7\u001b[24;0f\u001b[42m\u001b[30mProgress: [ 31%]\u001b[49m\u001b[39m [##################........................................] \u001b8Selecting previously unselected package libvidstab1.1:amd64.\n",
            "Preparing to unpack .../121-libvidstab1.1_1.1.0-2build1_amd64.deb ...\n",
            "Unpacking libvidstab1.1:amd64 (1.1.0-2build1) ...\n",
            "Selecting previously unselected package libzimg2:amd64.\n",
            "Preparing to unpack .../122-libzimg2_3.0.5+ds1-1build1_amd64.deb ...\n",
            "Unpacking libzimg2:amd64 (3.0.5+ds1-1build1) ...\n",
            "Selecting previously unselected package libavfilter9:amd64.\n",
            "Preparing to unpack .../123-libavfilter9_7%3a6.1.1-3ubuntu5_amd64.deb ...\n",
            "Unpacking libavfilter9:amd64 (7:6.1.1-3ubuntu5) ...\n",
            "Selecting previously unselected package libcaca0:amd64.\n",
            "Preparing to unpack .../124-libcaca0_0.99.beta20-4build2_amd64.deb ...\n",
            "Unpacking libcaca0:amd64 (0.99.beta20-4build2) ...\n",
            "\u001b7\u001b[24;0f\u001b[42m\u001b[30mProgress: [ 32%]\u001b[49m\u001b[39m [##################........................................] \u001b8Selecting previously unselected package libcdio19t64:amd64.\n",
            "Preparing to unpack .../125-libcdio19t64_2.1.0-4.1ubuntu1.2_amd64.deb ...\n",
            "Unpacking libcdio19t64:amd64 (2.1.0-4.1ubuntu1.2) ...\n",
            "Selecting previously unselected package libcdio-cdda2t64:amd64.\n",
            "Preparing to unpack .../126-libcdio-cdda2t64_10.2+2.0.1-1.1build2_amd64.deb ...\n",
            "Unpacking libcdio-cdda2t64:amd64 (10.2+2.0.1-1.1build2) ...\n",
            "Selecting previously unselected package libcdio-paranoia2t64:amd64.\n",
            "Preparing to unpack .../127-libcdio-paranoia2t64_10.2+2.0.1-1.1build2_amd64.deb ...\n",
            "Unpacking libcdio-paranoia2t64:amd64 (10.2+2.0.1-1.1build2) ...\n",
            "Selecting previously unselected package libdc1394-25:amd64.\n",
            "Preparing to unpack .../128-libdc1394-25_2.2.6-4build1_amd64.deb ...\n",
            "Unpacking libdc1394-25:amd64 (2.2.6-4build1) ...\n",
            "\u001b7\u001b[24;0f\u001b[42m\u001b[30mProgress: [ 33%]\u001b[49m\u001b[39m [###################.......................................] \u001b8Selecting previously unselected package libglvnd0:amd64.\n",
            "Preparing to unpack .../129-libglvnd0_1.7.0-1build1_amd64.deb ...\n",
            "Unpacking libglvnd0:amd64 (1.7.0-1build1) ...\n",
            "Selecting previously unselected package libglapi-mesa:amd64.\n",
            "Preparing to unpack .../130-libglapi-mesa_24.2.8-1ubuntu1~24.04.1_amd64.deb ...\n",
            "Unpacking libglapi-mesa:amd64 (24.2.8-1ubuntu1~24.04.1) ...\n",
            "Selecting previously unselected package libxcb-dri2-0:amd64.\n",
            "Preparing to unpack .../131-libxcb-dri2-0_1.15-1ubuntu2_amd64.deb ...\n",
            "Unpacking libxcb-dri2-0:amd64 (1.15-1ubuntu2) ...\n",
            "Selecting previously unselected package libxcb-glx0:amd64.\n",
            "Preparing to unpack .../132-libxcb-glx0_1.15-1ubuntu2_amd64.deb ...\n",
            "\u001b7\u001b[24;0f\u001b[42m\u001b[30mProgress: [ 34%]\u001b[49m\u001b[39m [###################.......................................] \u001b8Unpacking libxcb-glx0:amd64 (1.15-1ubuntu2) ...\n",
            "Selecting previously unselected package libxcb-present0:amd64.\n",
            "Preparing to unpack .../133-libxcb-present0_1.15-1ubuntu2_amd64.deb ...\n",
            "Unpacking libxcb-present0:amd64 (1.15-1ubuntu2) ...\n",
            "Selecting previously unselected package libxcb-randr0:amd64.\n",
            "Preparing to unpack .../134-libxcb-randr0_1.15-1ubuntu2_amd64.deb ...\n",
            "Unpacking libxcb-randr0:amd64 (1.15-1ubuntu2) ...\n",
            "Selecting previously unselected package libxcb-sync1:amd64.\n",
            "Preparing to unpack .../135-libxcb-sync1_1.15-1ubuntu2_amd64.deb ...\n",
            "Unpacking libxcb-sync1:amd64 (1.15-1ubuntu2) ...\n",
            "Selecting previously unselected package libxcb-xfixes0:amd64.\n",
            "Preparing to unpack .../136-libxcb-xfixes0_1.15-1ubuntu2_amd64.deb ...\n",
            "\u001b7\u001b[24;0f\u001b[42m\u001b[30mProgress: [ 35%]\u001b[49m\u001b[39m [####################......................................] \u001b8Unpacking libxcb-xfixes0:amd64 (1.15-1ubuntu2) ...\n",
            "Selecting previously unselected package libxshmfence1:amd64.\n",
            "Preparing to unpack .../137-libxshmfence1_1.3-1build5_amd64.deb ...\n",
            "Unpacking libxshmfence1:amd64 (1.3-1build5) ...\n",
            "Selecting previously unselected package libxxf86vm1:amd64.\n",
            "Preparing to unpack .../138-libxxf86vm1_1%3a1.1.4-1build4_amd64.deb ...\n",
            "Unpacking libxxf86vm1:amd64 (1:1.1.4-1build4) ...\n",
            "Selecting previously unselected package libdrm-amdgpu1:amd64.\n",
            "Preparing to unpack .../139-libdrm-amdgpu1_2.4.122-1~ubuntu0.24.04.1_amd64.deb ...\n",
            "Unpacking libdrm-amdgpu1:amd64 (2.4.122-1~ubuntu0.24.04.1) ...\n",
            "Selecting previously unselected package libdrm-radeon1:amd64.\n",
            "Preparing to unpack .../140-libdrm-radeon1_2.4.122-1~ubuntu0.24.04.1_amd64.deb ...\n",
            "\u001b7\u001b[24;0f\u001b[42m\u001b[30mProgress: [ 36%]\u001b[49m\u001b[39m [####################......................................] \u001b8Unpacking libdrm-radeon1:amd64 (2.4.122-1~ubuntu0.24.04.1) ...\n",
            "Selecting previously unselected package libllvm19:amd64.\n",
            "Preparing to unpack .../141-libllvm19_1%3a19.1.1-1ubuntu1~24.04.2_amd64.deb ...\n",
            "Unpacking libllvm19:amd64 (1:19.1.1-1ubuntu1~24.04.2) ...\n",
            "Selecting previously unselected package mesa-libgallium:amd64.\n",
            "Preparing to unpack .../142-mesa-libgallium_24.2.8-1ubuntu1~24.04.1_amd64.deb ...\n",
            "Unpacking mesa-libgallium:amd64 (24.2.8-1ubuntu1~24.04.1) ...\n",
            "Selecting previously unselected package libwayland-server0:amd64.\n",
            "Preparing to unpack .../143-libwayland-server0_1.22.0-2.1build1_amd64.deb ...\n",
            "Unpacking libwayland-server0:amd64 (1.22.0-2.1build1) ...\n",
            "Selecting previously unselected package libgbm1:amd64.\n",
            "Preparing to unpack .../144-libgbm1_24.2.8-1ubuntu1~24.04.1_amd64.deb ...\n",
            "\u001b7\u001b[24;0f\u001b[42m\u001b[30mProgress: [ 37%]\u001b[49m\u001b[39m [#####################.....................................] \u001b8Unpacking libgbm1:amd64 (24.2.8-1ubuntu1~24.04.1) ...\n",
            "Selecting previously unselected package libgl1-mesa-dri:amd64.\n",
            "Preparing to unpack .../145-libgl1-mesa-dri_24.2.8-1ubuntu1~24.04.1_amd64.deb ...\n",
            "Unpacking libgl1-mesa-dri:amd64 (24.2.8-1ubuntu1~24.04.1) ...\n",
            "Selecting previously unselected package libglx-mesa0:amd64.\n",
            "Preparing to unpack .../146-libglx-mesa0_24.2.8-1ubuntu1~24.04.1_amd64.deb ...\n",
            "Unpacking libglx-mesa0:amd64 (24.2.8-1ubuntu1~24.04.1) ...\n",
            "Selecting previously unselected package libglx0:amd64.\n",
            "Preparing to unpack .../147-libglx0_1.7.0-1build1_amd64.deb ...\n",
            "Unpacking libglx0:amd64 (1.7.0-1build1) ...\n",
            "Selecting previously unselected package libgl1:amd64.\n",
            "Preparing to unpack .../148-libgl1_1.7.0-1build1_amd64.deb ...\n",
            "\u001b7\u001b[24;0f\u001b[42m\u001b[30mProgress: [ 38%]\u001b[49m\u001b[39m [######################....................................] \u001b8Unpacking libgl1:amd64 (1.7.0-1build1) ...\n",
            "Selecting previously unselected package libiec61883-0:amd64.\n",
            "Preparing to unpack .../149-libiec61883-0_1.2.0-6build1_amd64.deb ...\n",
            "Unpacking libiec61883-0:amd64 (1.2.0-6build1) ...\n",
            "Selecting previously unselected package libjack-jackd2-0:amd64.\n",
            "Preparing to unpack .../150-libjack-jackd2-0_1.9.21~dfsg-3ubuntu3_amd64.deb ...\n",
            "Unpacking libjack-jackd2-0:amd64 (1.9.21~dfsg-3ubuntu3) ...\n",
            "Selecting previously unselected package libopenal-data.\n",
            "Preparing to unpack .../151-libopenal-data_1%3a1.23.1-4build1_all.deb ...\n",
            "Unpacking libopenal-data (1:1.23.1-4build1) ...\n",
            "\u001b7\u001b[24;0f\u001b[42m\u001b[30mProgress: [ 39%]\u001b[49m\u001b[39m [######################....................................] \u001b8Selecting previously unselected package libsndio7.0:amd64.\n",
            "Preparing to unpack .../152-libsndio7.0_1.9.0-0.3build3_amd64.deb ...\n",
            "Unpacking libsndio7.0:amd64 (1.9.0-0.3build3) ...\n",
            "Selecting previously unselected package libopenal1:amd64.\n",
            "Preparing to unpack .../153-libopenal1_1%3a1.23.1-4build1_amd64.deb ...\n",
            "Unpacking libopenal1:amd64 (1:1.23.1-4build1) ...\n",
            "Selecting previously unselected package libdecor-0-0:amd64.\n",
            "Preparing to unpack .../154-libdecor-0-0_0.2.2-1build2_amd64.deb ...\n",
            "Unpacking libdecor-0-0:amd64 (0.2.2-1build2) ...\n",
            "Selecting previously unselected package libwayland-cursor0:amd64.\n",
            "Preparing to unpack .../155-libwayland-cursor0_1.22.0-2.1build1_amd64.deb ...\n",
            "Unpacking libwayland-cursor0:amd64 (1.22.0-2.1build1) ...\n",
            "\u001b7\u001b[24;0f\u001b[42m\u001b[30mProgress: [ 40%]\u001b[49m\u001b[39m [#######################...................................] \u001b8Selecting previously unselected package libwayland-egl1:amd64.\n",
            "Preparing to unpack .../156-libwayland-egl1_1.22.0-2.1build1_amd64.deb ...\n",
            "Unpacking libwayland-egl1:amd64 (1.22.0-2.1build1) ...\n",
            "Selecting previously unselected package libxcursor1:amd64.\n",
            "Preparing to unpack .../157-libxcursor1_1%3a1.2.1-1build1_amd64.deb ...\n",
            "Unpacking libxcursor1:amd64 (1:1.2.1-1build1) ...\n",
            "Selecting previously unselected package libxrandr2:amd64.\n",
            "Preparing to unpack .../158-libxrandr2_2%3a1.5.2-2build1_amd64.deb ...\n",
            "Unpacking libxrandr2:amd64 (2:1.5.2-2build1) ...\n",
            "Selecting previously unselected package libsdl2-2.0-0:amd64.\n",
            "Preparing to unpack .../159-libsdl2-2.0-0_2.30.0+dfsg-1ubuntu3.1_amd64.deb ...\n",
            "Unpacking libsdl2-2.0-0:amd64 (2.30.0+dfsg-1ubuntu3.1) ...\n",
            "\u001b7\u001b[24;0f\u001b[42m\u001b[30mProgress: [ 41%]\u001b[49m\u001b[39m [#######################...................................] \u001b8Selecting previously unselected package libxcb-shape0:amd64.\n",
            "Preparing to unpack .../160-libxcb-shape0_1.15-1ubuntu2_amd64.deb ...\n",
            "Unpacking libxcb-shape0:amd64 (1.15-1ubuntu2) ...\n",
            "Selecting previously unselected package libxv1:amd64.\n",
            "Preparing to unpack .../161-libxv1_2%3a1.0.11-1.1build1_amd64.deb ...\n",
            "Unpacking libxv1:amd64 (2:1.0.11-1.1build1) ...\n",
            "Selecting previously unselected package libavdevice60:amd64.\n",
            "Preparing to unpack .../162-libavdevice60_7%3a6.1.1-3ubuntu5_amd64.deb ...\n",
            "Unpacking libavdevice60:amd64 (7:6.1.1-3ubuntu5) ...\n",
            "Selecting previously unselected package ffmpeg.\n",
            "Preparing to unpack .../163-ffmpeg_7%3a6.1.1-3ubuntu5_amd64.deb ...\n",
            "Unpacking ffmpeg (7:6.1.1-3ubuntu5) ...\n",
            "\u001b7\u001b[24;0f\u001b[42m\u001b[30mProgress: [ 42%]\u001b[49m\u001b[39m [########################..................................] \u001b8Selecting previously unselected package libigdgmm12:amd64.\n",
            "Preparing to unpack .../164-libigdgmm12_22.3.17+ds1-1_amd64.deb ...\n",
            "Unpacking libigdgmm12:amd64 (22.3.17+ds1-1) ...\n",
            "Selecting previously unselected package intel-media-va-driver:amd64.\n",
            "Preparing to unpack .../165-intel-media-va-driver_24.1.0+dfsg1-1_amd64.deb ...\n",
            "Unpacking intel-media-va-driver:amd64 (24.1.0+dfsg1-1) ...\n",
            "Selecting previously unselected package libaacs0:amd64.\n",
            "Preparing to unpack .../166-libaacs0_0.11.1-2build1_amd64.deb ...\n",
            "Unpacking libaacs0:amd64 (0.11.1-2build1) ...\n",
            "Selecting previously unselected package libatk1.0-0t64:amd64.\n",
            "Preparing to unpack .../167-libatk1.0-0t64_2.52.0-1build1_amd64.deb ...\n",
            "\u001b7\u001b[24;0f\u001b[42m\u001b[30mProgress: [ 43%]\u001b[49m\u001b[39m [########################..................................] \u001b8Unpacking libatk1.0-0t64:amd64 (2.52.0-1build1) ...\n",
            "Selecting previously unselected package libatk-bridge2.0-0t64:amd64.\n",
            "Preparing to unpack .../168-libatk-bridge2.0-0t64_2.52.0-1build1_amd64.deb ...\n",
            "Unpacking libatk-bridge2.0-0t64:amd64 (2.52.0-1build1) ...\n",
            "Selecting previously unselected package libavahi-common-data:amd64.\n",
            "Preparing to unpack .../169-libavahi-common-data_0.8-13ubuntu6_amd64.deb ...\n",
            "Unpacking libavahi-common-data:amd64 (0.8-13ubuntu6) ...\n",
            "Selecting previously unselected package libavahi-common3:amd64.\n",
            "Preparing to unpack .../170-libavahi-common3_0.8-13ubuntu6_amd64.deb ...\n",
            "Unpacking libavahi-common3:amd64 (0.8-13ubuntu6) ...\n",
            "Selecting previously unselected package libavahi-client3:amd64.\n",
            "Preparing to unpack .../171-libavahi-client3_0.8-13ubuntu6_amd64.deb ...\n",
            "\u001b7\u001b[24;0f\u001b[42m\u001b[30mProgress: [ 44%]\u001b[49m\u001b[39m [#########################.................................] \u001b8Unpacking libavahi-client3:amd64 (0.8-13ubuntu6) ...\n",
            "Selecting previously unselected package libbdplus0:amd64.\n",
            "Preparing to unpack .../172-libbdplus0_0.2.0-3build1_amd64.deb ...\n",
            "Unpacking libbdplus0:amd64 (0.2.0-3build1) ...\n",
            "Selecting previously unselected package libcolord2:amd64.\n",
            "Preparing to unpack .../173-libcolord2_1.4.7-1build2_amd64.deb ...\n",
            "Unpacking libcolord2:amd64 (1.4.7-1build2) ...\n",
            "Selecting previously unselected package libcups2t64:amd64.\n",
            "Preparing to unpack .../174-libcups2t64_2.4.7-1.2ubuntu7.3_amd64.deb ...\n",
            "Unpacking libcups2t64:amd64 (2.4.7-1.2ubuntu7.3) ...\n",
            "Selecting previously unselected package libepoxy0:amd64.\n",
            "Preparing to unpack .../175-libepoxy0_1.5.10-1build1_amd64.deb ...\n",
            "\u001b7\u001b[24;0f\u001b[42m\u001b[30mProgress: [ 45%]\u001b[49m\u001b[39m [##########################................................] \u001b8Unpacking libepoxy0:amd64 (1.5.10-1build1) ...\n",
            "Selecting previously unselected package libxcomposite1:amd64.\n",
            "Preparing to unpack .../176-libxcomposite1_1%3a0.4.5-1build3_amd64.deb ...\n",
            "Unpacking libxcomposite1:amd64 (1:0.4.5-1build3) ...\n",
            "Selecting previously unselected package libxdamage1:amd64.\n",
            "Preparing to unpack .../177-libxdamage1_1%3a1.1.6-1build1_amd64.deb ...\n",
            "Unpacking libxdamage1:amd64 (1:1.1.6-1build1) ...\n",
            "Selecting previously unselected package libxinerama1:amd64.\n",
            "Preparing to unpack .../178-libxinerama1_2%3a1.1.4-3build1_amd64.deb ...\n",
            "Unpacking libxinerama1:amd64 (2:1.1.4-3build1) ...\n",
            "Selecting previously unselected package libgtk-3-common.\n",
            "Preparing to unpack .../179-libgtk-3-common_3.24.41-4ubuntu1.3_all.deb ...\n",
            "\u001b7\u001b[24;0f\u001b[42m\u001b[30mProgress: [ 46%]\u001b[49m\u001b[39m [##########################................................] \u001b8Unpacking libgtk-3-common (3.24.41-4ubuntu1.3) ...\n",
            "Selecting previously unselected package libgtk-3-0t64:amd64.\n",
            "Preparing to unpack .../180-libgtk-3-0t64_3.24.41-4ubuntu1.3_amd64.deb ...\n",
            "Unpacking libgtk-3-0t64:amd64 (3.24.41-4ubuntu1.3) ...\n",
            "Selecting previously unselected package libdecor-0-plugin-1-gtk:amd64.\n",
            "Preparing to unpack .../181-libdecor-0-plugin-1-gtk_0.2.2-1build2_amd64.deb ...\n",
            "Unpacking libdecor-0-plugin-1-gtk:amd64 (0.2.2-1build2) ...\n",
            "Selecting previously unselected package libdrm-nouveau2:amd64.\n",
            "Preparing to unpack .../182-libdrm-nouveau2_2.4.122-1~ubuntu0.24.04.1_amd64.deb ...\n",
            "Unpacking libdrm-nouveau2:amd64 (2.4.122-1~ubuntu0.24.04.1) ...\n",
            "Selecting previously unselected package libgdk-pixbuf2.0-bin.\n",
            "Preparing to unpack .../183-libgdk-pixbuf2.0-bin_2.42.10+dfsg-3ubuntu3.1_amd64.deb ...\n",
            "\u001b7\u001b[24;0f\u001b[42m\u001b[30mProgress: [ 47%]\u001b[49m\u001b[39m [###########################...............................] \u001b8Unpacking libgdk-pixbuf2.0-bin (2.42.10+dfsg-3ubuntu3.1) ...\n",
            "Selecting previously unselected package libgl1-amber-dri:amd64.\n",
            "Preparing to unpack .../184-libgl1-amber-dri_21.3.9-0ubuntu2_amd64.deb ...\n",
            "Unpacking libgl1-amber-dri:amd64 (21.3.9-0ubuntu2) ...\n",
            "Selecting previously unselected package libgtk-3-bin.\n",
            "Preparing to unpack .../185-libgtk-3-bin_3.24.41-4ubuntu1.3_amd64.deb ...\n",
            "Unpacking libgtk-3-bin (3.24.41-4ubuntu1.3) ...\n",
            "Selecting previously unselected package librsvg2-common:amd64.\n",
            "Preparing to unpack .../186-librsvg2-common_2.58.0+dfsg-1build1_amd64.deb ...\n",
            "Unpacking librsvg2-common:amd64 (2.58.0+dfsg-1build1) ...\n",
            "\u001b7\u001b[24;0f\u001b[42m\u001b[30mProgress: [ 48%]\u001b[49m\u001b[39m [###########################...............................] \u001b8Selecting previously unselected package mesa-va-drivers:amd64.\n",
            "Preparing to unpack .../187-mesa-va-drivers_24.2.8-1ubuntu1~24.04.1_amd64.deb ...\n",
            "Unpacking mesa-va-drivers:amd64 (24.2.8-1ubuntu1~24.04.1) ...\n",
            "Selecting previously unselected package mesa-vdpau-drivers:amd64.\n",
            "Preparing to unpack .../188-mesa-vdpau-drivers_24.2.8-1ubuntu1~24.04.1_amd64.deb ...\n",
            "Unpacking mesa-vdpau-drivers:amd64 (24.2.8-1ubuntu1~24.04.1) ...\n",
            "Selecting previously unselected package mesa-vulkan-drivers:amd64.\n",
            "Preparing to unpack .../189-mesa-vulkan-drivers_24.2.8-1ubuntu1~24.04.1_amd64.deb ...\n",
            "Unpacking mesa-vulkan-drivers:amd64 (24.2.8-1ubuntu1~24.04.1) ...\n",
            "Selecting previously unselected package i965-va-driver:amd64.\n",
            "Preparing to unpack .../190-i965-va-driver_2.4.1+dfsg1-1build2_amd64.deb ...\n",
            "Unpacking i965-va-driver:amd64 (2.4.1+dfsg1-1build2) ...\n",
            "\u001b7\u001b[24;0f\u001b[42m\u001b[30mProgress: [ 49%]\u001b[49m\u001b[39m [############################..............................] \u001b8Selecting previously unselected package va-driver-all:amd64.\n",
            "Preparing to unpack .../191-va-driver-all_2.20.0-2build1_amd64.deb ...\n",
            "Unpacking va-driver-all:amd64 (2.20.0-2build1) ...\n",
            "Selecting previously unselected package vdpau-driver-all:amd64.\n",
            "Preparing to unpack .../192-vdpau-driver-all_1.5-2build1_amd64.deb ...\n",
            "Unpacking vdpau-driver-all:amd64 (1.5-2build1) ...\n",
            "Selecting previously unselected package pocketsphinx-en-us.\n",
            "Preparing to unpack .../193-pocketsphinx-en-us_0.8.0+real5prealpha+1-15ubuntu5_all.deb ...\n",
            "Unpacking pocketsphinx-en-us (0.8.0+real5prealpha+1-15ubuntu5) ...\n",
            "Setting up libgme0:amd64 (0.6.3-7build1) ...\n",
            "\u001b7\u001b[24;0f\u001b[42m\u001b[30mProgress: [ 50%]\u001b[49m\u001b[39m [#############################.............................] \u001b8Setting up libchromaprint1:amd64 (1.5.1-5) ...\n",
            "Setting up libssh-gcrypt-4:amd64 (0.10.6-2build2) ...\n",
            "Setting up libhwy1t64:amd64 (1.0.7-8.1build1) ...\n",
            "Setting up libxcb-dri3-0:amd64 (1.15-1ubuntu2) ...\n",
            "\u001b7\u001b[24;0f\u001b[42m\u001b[30mProgress: [ 51%]\u001b[49m\u001b[39m [#############################.............................] \u001b8Setting up liblcms2-2:amd64 (2.14-2build1) ...\n",
            "Setting up libudfread0:amd64 (1.1.2-1build1) ...\n",
            "Setting up libllvm19:amd64 (1:19.1.1-1ubuntu1~24.04.2) ...\n",
            "Setting up libnorm1t64:amd64 (1.5.9+dfsg-3.1build1) ...\n",
            "\u001b7\u001b[24;0f\u001b[42m\u001b[30mProgress: [ 52%]\u001b[49m\u001b[39m [##############################............................] \u001b8Setting up libwayland-server0:amd64 (1.22.0-2.1build1) ...\n",
            "Setting up libaom3:amd64 (3.8.2-2ubuntu0.1) ...\n",
            "Setting up libx11-xcb1:amd64 (2:1.8.7-1build1) ...\n",
            "Setting up libpciaccess0:amd64 (0.17-3build1) ...\n",
            "\u001b7\u001b[24;0f\u001b[42m\u001b[30mProgress: [ 53%]\u001b[49m\u001b[39m [##############################............................] \u001b8Setting up session-migration (0.3.9build1) ...\n",
            "Created symlink /etc/systemd/user/graphical-session-pre.target.wants/session-migration.service → /usr/lib/systemd/user/session-migration.service.\n",
            "Setting up librabbitmq4:amd64 (0.11.0-1build2) ...\n",
            "Setting up libraw1394-11:amd64 (2.1.2-2build3) ...\n",
            "Setting up libxdamage1:amd64 (1:1.1.6-1build1) ...\n",
            "\u001b7\u001b[24;0f\u001b[42m\u001b[30mProgress: [ 54%]\u001b[49m\u001b[39m [###############################...........................] \u001b8Setting up libxcb-xfixes0:amd64 (1.15-1ubuntu2) ...\n",
            "Setting up libogg0:amd64 (1.3.5-3build1) ...\n",
            "Setting up libspeex1:amd64 (1.2.1-2ubuntu2.24.04.1) ...\n",
            "Setting up libshine3:amd64 (3.1.1-2build1) ...\n",
            "\u001b7\u001b[24;0f\u001b[42m\u001b[30mProgress: [ 55%]\u001b[49m\u001b[39m [###############################...........................] \u001b8Setting up hicolor-icon-theme (0.17-2) ...\n",
            "Setting up libxi6:amd64 (2:1.8.1-1build1) ...\n",
            "Setting up libx264-164:amd64 (2:0.164.3108+git31e19f9-1) ...\n",
            "Setting up libtwolame0:amd64 (0.4.0-2build3) ...\n",
            "\u001b7\u001b[24;0f\u001b[42m\u001b[30mProgress: [ 56%]\u001b[49m\u001b[39m [################################..........................] \u001b8Setting up libmbedcrypto7t64:amd64 (2.28.8-1) ...\n",
            "Setting up libgsm1:amd64 (1.0.22-1build1) ...\n",
            "Setting up libsoxr0:amd64 (0.1.3-4build3) ...\n",
            "Setting up libzix-0-0:amd64 (0.4.2-2build1) ...\n",
            "\u001b7\u001b[24;0f\u001b[42m\u001b[30mProgress: [ 57%]\u001b[49m\u001b[39m [#################################.........................] \u001b8Setting up libglvnd0:amd64 (1.7.0-1build1) ...\n",
            "Setting up libxtst6:amd64 (2:1.2.3-1.1build1) ...\n",
            "Setting up libcodec2-1.2:amd64 (1.2.0-2build1) ...\n",
            "\u001b7\u001b[24;0f\u001b[42m\u001b[30mProgress: [ 58%]\u001b[49m\u001b[39m [#################################.........................] \u001b8Setting up libxcb-glx0:amd64 (1.15-1ubuntu2) ...\n",
            "Setting up libgdk-pixbuf2.0-common (2.42.10+dfsg-3ubuntu3.1) ...\n",
            "Setting up libmysofa1:amd64 (1.3.2+dfsg-2ubuntu2) ...\n",
            "Setting up libxcb-shape0:amd64 (1.15-1ubuntu2) ...\n",
            "\u001b7\u001b[24;0f\u001b[42m\u001b[30mProgress: [ 59%]\u001b[49m\u001b[39m [##################################........................] \u001b8Setting up libsensors-config (1:3.6.0-9build1) ...\n",
            "Setting up libcdio19t64:amd64 (2.1.0-4.1ubuntu1.2) ...\n",
            "Setting up xkb-data (2.41-2ubuntu1.1) ...\n",
            "Setting up libsvtav1enc1d1:amd64 (1.7.0+dfsg-2build1) ...\n",
            "\u001b7\u001b[24;0f\u001b[42m\u001b[30mProgress: [ 60%]\u001b[49m\u001b[39m [##################################........................] \u001b8Setting up libigdgmm12:amd64 (22.3.17+ds1-1) ...\n",
            "Setting up libmpg123-0t64:amd64 (1.32.5-1ubuntu1.1) ...\n",
            "Setting up libcjson1:amd64 (1.7.17-1) ...\n",
            "Setting up libxvidcore4:amd64 (2:1.3.7-1build1) ...\n",
            "\u001b7\u001b[24;0f\u001b[42m\u001b[30mProgress: [ 61%]\u001b[49m\u001b[39m [###################################.......................] \u001b8Setting up librav1e0:amd64 (0.7.1-2) ...\n",
            "Setting up libcolord2:amd64 (1.4.7-1build2) ...\n",
            "Setting up libxxf86vm1:amd64 (1:1.1.4-1build4) ...\n",
            "Setting up libsnappy1v5:amd64 (1.1.10-1build1) ...\n",
            "\u001b7\u001b[24;0f\u001b[42m\u001b[30mProgress: [ 62%]\u001b[49m\u001b[39m [###################################.......................] \u001b8Setting up libcdio-cdda2t64:amd64 (10.2+2.0.1-1.1build2) ...\n",
            "Setting up librist4:amd64 (0.2.10+dfsg-2) ...\n",
            "Setting up libxcb-present0:amd64 (1.15-1ubuntu2) ...\n",
            "Setting up libdconf1:amd64 (0.40.0-4build2) ...\n",
            "\u001b7\u001b[24;0f\u001b[42m\u001b[30mProgress: [ 63%]\u001b[49m\u001b[39m [####################################......................] \u001b8Setting up libasound2-data (1.2.11-1build2) ...\n",
            "Setting up dbus-user-session (1.14.10-4ubuntu4.1) ...\n",
            "Setting up libpgm-5.3-0t64:amd64 (5.3.128~dfsg-2.1build1) ...\n",
            "Setting up libblas3:amd64 (3.12.0-3build1.1) ...\n",
            "\u001b7\u001b[24;0f\u001b[42m\u001b[30mProgress: [ 64%]\u001b[49m\u001b[39m [#####################################.....................] \u001b8update-alternatives: using /usr/lib/x86_64-linux-gnu/blas/libblas.so.3 to provide /usr/lib/x86_64-linux-gnu/libblas.so.3 (libblas.so.3-x86_64-linux-gnu) in auto mode\n",
            "Setting up libasound2t64:amd64 (1.2.11-1build2) ...\n",
            "Setting up libslang2:amd64 (2.3.3-3build2) ...\n",
            "Setting up libva2:amd64 (2.20.0-2build1) ...\n",
            "Setting up libepoxy0:amd64 (1.5.10-1build1) ...\n",
            "\u001b7\u001b[24;0f\u001b[42m\u001b[30mProgress: [ 65%]\u001b[49m\u001b[39m [#####################################.....................] \u001b8Setting up libxfixes3:amd64 (1:6.0.0-2build1) ...\n",
            "Setting up libxcb-sync1:amd64 (1.15-1ubuntu2) ...\n",
            "Setting up libavahi-common-data:amd64 (0.8-13ubuntu6) ...\n",
            "Setting up libatspi2.0-0t64:amd64 (2.52.0-1build1) ...\n",
            "\u001b7\u001b[24;0f\u001b[42m\u001b[30mProgress: [ 66%]\u001b[49m\u001b[39m [######################################....................] \u001b8Setting up libopus0:amd64 (1.4-1build1) ...\n",
            "Setting up shared-mime-info (2.4-4) ...\n",
            "Setting up libxinerama1:amd64 (2:1.1.4-3build1) ...\n",
            "\u001b7\u001b[24;0f\u001b[42m\u001b[30mProgress: [ 67%]\u001b[49m\u001b[39m [######################################....................] \u001b8Setting up libcdio-paranoia2t64:amd64 (10.2+2.0.1-1.1build2) ...\n",
            "Setting up intel-media-va-driver:amd64 (24.1.0+dfsg1-1) ...\n",
            "Setting up libxv1:amd64 (2:1.0.11-1.1build1) ...\n",
            "Setting up libvorbis0a:amd64 (1.3.7-1build3) ...\n",
            "\u001b7\u001b[24;0f\u001b[42m\u001b[30mProgress: [ 68%]\u001b[49m\u001b[39m [#######################################...................] \u001b8Setting up libxrandr2:amd64 (2:1.5.2-2build1) ...\n",
            "Setting up libunibreak5:amd64 (5.1-2build1) ...\n",
            "Setting up libsensors5:amd64 (1:3.6.0-9build1) ...\n",
            "Setting up libaacs0:amd64 (0.11.1-2build1) ...\n",
            "\u001b7\u001b[24;0f\u001b[42m\u001b[30mProgress: [ 69%]\u001b[49m\u001b[39m [########################################..................] \u001b8Setting up libjxl0.7:amd64 (0.7.0-10.2ubuntu6) ...\n",
            "Setting up pocketsphinx-en-us (0.8.0+real5prealpha+1-15ubuntu5) ...\n",
            "Setting up libfftw3-double3:amd64 (3.3.10-1ubuntu3) ...\n",
            "Setting up libglapi-mesa:amd64 (24.2.8-1ubuntu1~24.04.1) ...\n",
            "\u001b7\u001b[24;0f\u001b[42m\u001b[30mProgress: [ 70%]\u001b[49m\u001b[39m [########################################..................] \u001b8Setting up libgfortran5:amd64 (14.2.0-4ubuntu2~24.04) ...\n",
            "Setting up libvulkan1:amd64 (1.3.275.0-1build1) ...\n",
            "Setting up libx265-199:amd64 (3.5-2build1) ...\n",
            "Setting up libsndio7.0:amd64 (1.9.0-0.3build3) ...\n",
            "\u001b7\u001b[24;0f\u001b[42m\u001b[30mProgress: [ 71%]\u001b[49m\u001b[39m [#########################################.................] \u001b8Setting up libxcb-dri2-0:amd64 (1.15-1ubuntu2) ...\n",
            "Setting up libbdplus0:amd64 (0.2.0-3build1) ...\n",
            "Setting up libvidstab1.1:amd64 (1.1.0-2build1) ...\n",
            "Setting up libvpx9:amd64 (1.14.0-1ubuntu2.2) ...\n",
            "\u001b7\u001b[24;0f\u001b[42m\u001b[30mProgress: [ 72%]\u001b[49m\u001b[39m [#########################################.................] \u001b8Setting up libsrt1.5-gnutls:amd64 (1.5.3-1build2) ...\n",
            "Setting up alsa-topology-conf (1.2.5.1-2) ...\n",
            "Setting up libflite1:amd64 (2.2-6build3) ...\n",
            "Setting up libdav1d7:amd64 (1.4.1-1build1) ...\n",
            "\u001b7\u001b[24;0f\u001b[42m\u001b[30mProgress: [ 73%]\u001b[49m\u001b[39m [##########################################................] \u001b8Setting up ocl-icd-libopencl1:amd64 (2.3.2-1build1) ...\n",
            "Setting up libasyncns0:amd64 (0.8-6build4) ...\n",
            "Setting up libxshmfence1:amd64 (1.3-1build5) ...\n",
            "Setting up at-spi2-common (2.52.0-1build1) ...\n",
            "\u001b7\u001b[24;0f\u001b[42m\u001b[30mProgress: [ 74%]\u001b[49m\u001b[39m [##########################################................] \u001b8Setting up libvdpau1:amd64 (1.5-2build1) ...\n",
            "Setting up libbs2b0:amd64 (3.1.0+dfsg-7build1) ...\n",
            "Setting up libxcb-randr0:amd64 (1.15-1ubuntu2) ...\n",
            "Setting up libtheora0:amd64 (1.1.1+dfsg.1-16.1build3) ...\n",
            "\u001b7\u001b[24;0f\u001b[42m\u001b[30mProgress: [ 75%]\u001b[49m\u001b[39m [###########################################...............] \u001b8Setting up libzimg2:amd64 (3.0.5+ds1-1build1) ...\n",
            "Setting up libopenjp2-7:amd64 (2.5.0-2ubuntu0.3) ...\n",
            "Setting up libopenal-data (1:1.23.1-4build1) ...\n",
            "Setting up libgdk-pixbuf-2.0-0:amd64 (2.42.10+dfsg-3ubuntu3.1) ...\n",
            "\u001b7\u001b[24;0f\u001b[42m\u001b[30mProgress: [ 76%]\u001b[49m\u001b[39m [############################################..............] \u001b8Setting up libcairo-gobject2:amd64 (1.18.0-3build1) ...\n",
            "Setting up libflac12t64:amd64 (1.4.3+ds-2.1ubuntu2) ...\n",
            "Setting up libwayland-egl1:amd64 (1.22.0-2.1build1) ...\n",
            "\u001b7\u001b[24;0f\u001b[42m\u001b[30mProgress: [ 77%]\u001b[49m\u001b[39m [############################################..............] \u001b8Setting up libusb-1.0-0:amd64 (2:1.0.27-1) ...\n",
            "Setting up mesa-va-drivers:amd64 (24.2.8-1ubuntu1~24.04.1) ...\n",
            "Setting up libbluray2:amd64 (1:1.3.4-1build1) ...\n",
            "Setting up libsamplerate0:amd64 (0.2.2-4build1) ...\n",
            "\u001b7\u001b[24;0f\u001b[42m\u001b[30mProgress: [ 78%]\u001b[49m\u001b[39m [#############################################.............] \u001b8Setting up libwebpmux3:amd64 (1.3.2-0.4build3) ...\n",
            "Setting up libdrm-common (2.4.122-1~ubuntu0.24.04.1) ...\n",
            "Setting up libxcomposite1:amd64 (1:0.4.5-1build3) ...\n",
            "Setting up libzvbi-common (0.2.42-2) ...\n",
            "\u001b7\u001b[24;0f\u001b[42m\u001b[30mProgress: [ 79%]\u001b[49m\u001b[39m [#############################################.............] \u001b8Setting up libmp3lame0:amd64 (3.100-6build1) ...\n",
            "Setting up libvorbisenc2:amd64 (1.3.7-1build3) ...\n",
            "Setting up libiec61883-0:amd64 (1.2.0-6build1) ...\n",
            "Setting up libserd-0-0:amd64 (0.32.2-1) ...\n",
            "\u001b7\u001b[24;0f\u001b[42m\u001b[30mProgress: [ 80%]\u001b[49m\u001b[39m [##############################################............] \u001b8Setting up libxkbcommon0:amd64 (1.6.0-1build1) ...\n",
            "Setting up libwayland-client0:amd64 (1.22.0-2.1build1) ...\n",
            "Setting up libavc1394-0:amd64 (0.5.4-5build3) ...\n",
            "Setting up mesa-vdpau-drivers:amd64 (24.2.8-1ubuntu1~24.04.1) ...\n",
            "\u001b7\u001b[24;0f\u001b[42m\u001b[30mProgress: [ 81%]\u001b[49m\u001b[39m [##############################################............] \u001b8Setting up gtk-update-icon-cache (3.24.41-4ubuntu1.3) ...\n",
            "Setting up liblapack3:amd64 (3.12.0-3build1.1) ...\n",
            "update-alternatives: using /usr/lib/x86_64-linux-gnu/lapack/liblapack.so.3 to provide /usr/lib/x86_64-linux-gnu/liblapack.so.3 (liblapack.so.3-x86_64-linux-gnu) in auto mode\n",
            "Setting up libatk1.0-0t64:amd64 (2.52.0-1build1) ...\n",
            "Setting up libzmq5:amd64 (4.3.5-1build2) ...\n",
            "\u001b7\u001b[24;0f\u001b[42m\u001b[30mProgress: [ 82%]\u001b[49m\u001b[39m [###############################################...........] \u001b8Setting up libcaca0:amd64 (0.99.beta20-4build2) ...\n",
            "Setting up libzvbi0t64:amd64 (0.2.42-2) ...\n",
            "Setting up alsa-ucm-conf (1.2.10-1ubuntu5.4) ...\n",
            "Setting up libxcursor1:amd64 (1:1.2.1-1build1) ...\n",
            "\u001b7\u001b[24;0f\u001b[42m\u001b[30mProgress: [ 83%]\u001b[49m\u001b[39m [################################################..........] \u001b8Setting up libavahi-common3:amd64 (0.8-13ubuntu6) ...\n",
            "Setting up dconf-service (0.40.0-4build2) ...\n",
            "Setting up libopenal1:amd64 (1:1.23.1-4build1) ...\n",
            "Setting up librsvg2-2:amd64 (2.58.0+dfsg-1build1) ...\n",
            "\u001b7\u001b[24;0f\u001b[42m\u001b[30mProgress: [ 84%]\u001b[49m\u001b[39m [################################################..........] \u001b8Setting up libvorbisfile3:amd64 (1.3.7-1build3) ...\n",
            "Setting up libplacebo338:amd64 (6.338.2-2build1) ...\n",
            "Setting up libass9:amd64 (1:0.17.1-2build1) ...\n",
            "Setting up libdc1394-25:amd64 (2.2.6-4build1) ...\n",
            "\u001b7\u001b[24;0f\u001b[42m\u001b[30mProgress: [ 85%]\u001b[49m\u001b[39m [#################################################.........] \u001b8Setting up librsvg2-common:amd64 (2.58.0+dfsg-1build1) ...\n",
            "Setting up librubberband2:amd64 (3.3.0+dfsg-2build1) ...\n",
            "Setting up libjack-jackd2-0:amd64 (1.9.21~dfsg-3ubuntu3) ...\n",
            "Setting up libdrm2:amd64 (2.4.122-1~ubuntu0.24.04.1) ...\n",
            "\u001b7\u001b[24;0f\u001b[42m\u001b[30mProgress: [ 86%]\u001b[49m\u001b[39m [#################################################.........] \u001b8Setting up vdpau-driver-all:amd64 (1.5-2build1) ...\n",
            "Setting up libva-drm2:amd64 (2.20.0-2build1) ...\n",
            "Setting up libgdk-pixbuf2.0-bin (2.42.10+dfsg-3ubuntu3.1) ...\n",
            "Setting up libsord-0-0:amd64 (0.16.16-2build1) ...\n",
            "\u001b7\u001b[24;0f\u001b[42m\u001b[30mProgress: [ 87%]\u001b[49m\u001b[39m [##################################################........] \u001b8Setting up libwayland-cursor0:amd64 (1.22.0-2.1build1) ...\n",
            "Setting up libsratom-0-0:amd64 (0.6.16-1build1) ...\n",
            "Setting up libdecor-0-0:amd64 (0.2.2-1build2) ...\n",
            "Setting up libsndfile1:amd64 (1.2.2-1ubuntu5.24.04.1) ...\n",
            "\u001b7\u001b[24;0f\u001b[42m\u001b[30mProgress: [ 88%]\u001b[49m\u001b[39m [###################################################.......] \u001b8Setting up libva-x11-2:amd64 (2.20.0-2build1) ...\n",
            "Setting up liblilv-0-0:amd64 (0.24.22-1build1) ...\n",
            "Setting up libopenmpt0t64:amd64 (0.7.3-1.1build3) ...\n",
            "Setting up libavahi-client3:amd64 (0.8-13ubuntu6) ...\n",
            "\u001b7\u001b[24;0f\u001b[42m\u001b[30mProgress: [ 89%]\u001b[49m\u001b[39m [###################################################.......] \u001b8Setting up libdrm-amdgpu1:amd64 (2.4.122-1~ubuntu0.24.04.1) ...\n",
            "Setting up libatk-bridge2.0-0t64:amd64 (2.52.0-1build1) ...\n",
            "Setting up mesa-vulkan-drivers:amd64 (24.2.8-1ubuntu1~24.04.1) ...\n",
            "Setting up libdrm-nouveau2:amd64 (2.4.122-1~ubuntu0.24.04.1) ...\n",
            "\u001b7\u001b[24;0f\u001b[42m\u001b[30mProgress: [ 90%]\u001b[49m\u001b[39m [####################################################......] \u001b8Setting up dconf-gsettings-backend:amd64 (0.40.0-4build2) ...\n",
            "Setting up libpulse0:amd64 (1:16.1+dfsg1-2ubuntu10.1) ...\n",
            "Setting up libdrm-radeon1:amd64 (2.4.122-1~ubuntu0.24.04.1) ...\n",
            "Setting up libdrm-intel1:amd64 (2.4.122-1~ubuntu0.24.04.1) ...\n",
            "\u001b7\u001b[24;0f\u001b[42m\u001b[30mProgress: [ 91%]\u001b[49m\u001b[39m [####################################################......] \u001b8Setting up libsphinxbase3t64:amd64 (0.8+5prealpha+1-17build2) ...\n",
            "Setting up libcups2t64:amd64 (2.4.7-1.2ubuntu7.3) ...\n",
            "Setting up libgtk-3-common (3.24.41-4ubuntu1.3) ...\n",
            "Setting up i965-va-driver:amd64 (2.4.1+dfsg1-1build2) ...\n",
            "\u001b7\u001b[24;0f\u001b[42m\u001b[30mProgress: [ 92%]\u001b[49m\u001b[39m [#####################################################.....] \u001b8Setting up gsettings-desktop-schemas (46.1-0ubuntu1) ...\n",
            "Setting up libgl1-amber-dri:amd64 (21.3.9-0ubuntu2) ...\n",
            "Setting up mesa-libgallium:amd64 (24.2.8-1ubuntu1~24.04.1) ...\n",
            "Setting up libvpl2 (2023.3.0-1build1) ...\n",
            "Setting up libgbm1:amd64 (24.2.8-1ubuntu1~24.04.1) ...\n",
            "\u001b7\u001b[24;0f\u001b[42m\u001b[30mProgress: [ 93%]\u001b[49m\u001b[39m [#####################################################.....] \u001b8Setting up libgl1-mesa-dri:amd64 (24.2.8-1ubuntu1~24.04.1) ...\n",
            "Setting up libavutil58:amd64 (7:6.1.1-3ubuntu5) ...\n",
            "Setting up libpocketsphinx3:amd64 (0.8.0+real5prealpha+1-15ubuntu5) ...\n",
            "Setting up libswresample4:amd64 (7:6.1.1-3ubuntu5) ...\n",
            "\u001b7\u001b[24;0f\u001b[42m\u001b[30mProgress: [ 94%]\u001b[49m\u001b[39m [######################################################....] \u001b8Setting up va-driver-all:amd64 (2.20.0-2build1) ...\n",
            "Setting up libavcodec60:amd64 (7:6.1.1-3ubuntu5) ...\n",
            "Setting up libpostproc57:amd64 (7:6.1.1-3ubuntu5) ...\n",
            "\u001b7\u001b[24;0f\u001b[42m\u001b[30mProgress: [ 95%]\u001b[49m\u001b[39m [#######################################################...] \u001b8Setting up libsdl2-2.0-0:amd64 (2.30.0+dfsg-1ubuntu3.1) ...\n",
            "Setting up libswscale7:amd64 (7:6.1.1-3ubuntu5) ...\n",
            "Setting up libglx-mesa0:amd64 (24.2.8-1ubuntu1~24.04.1) ...\n",
            "Setting up libglx0:amd64 (1.7.0-1build1) ...\n",
            "\u001b7\u001b[24;0f\u001b[42m\u001b[30mProgress: [ 96%]\u001b[49m\u001b[39m [#######################################################...] \u001b8Setting up libavformat60:amd64 (7:6.1.1-3ubuntu5) ...\n",
            "Setting up libavfilter9:amd64 (7:6.1.1-3ubuntu5) ...\n",
            "Setting up libgl1:amd64 (1.7.0-1build1) ...\n",
            "Setting up libavdevice60:amd64 (7:6.1.1-3ubuntu5) ...\n",
            "\u001b7\u001b[24;0f\u001b[42m\u001b[30mProgress: [ 97%]\u001b[49m\u001b[39m [########################################################..] \u001b8Setting up ffmpeg (7:6.1.1-3ubuntu5) ...\n",
            "Setting up adwaita-icon-theme (46.0-1) ...\n",
            "update-alternatives: using /usr/share/icons/Adwaita/cursor.theme to provide /usr/share/icons/default/index.theme (x-cursor-theme) in auto mode\n",
            "Setting up humanity-icon-theme (0.6.16) ...\n",
            "Setting up ubuntu-mono (24.04-0ubuntu1) ...\n",
            "\u001b7\u001b[24;0f\u001b[42m\u001b[30mProgress: [ 98%]\u001b[49m\u001b[39m [########################################################..] \u001b8Processing triggers for man-db (2.12.0-4build2) ...\n",
            "Processing triggers for libglib2.0-0t64:amd64 (2.80.0-6ubuntu3.4) ...\n",
            "Setting up libgtk-3-0t64:amd64 (3.24.41-4ubuntu1.3) ...\n",
            "Setting up at-spi2-core (2.52.0-1build1) ...\n",
            "\u001b7\u001b[24;0f\u001b[42m\u001b[30mProgress: [ 99%]\u001b[49m\u001b[39m [#########################################################.] \u001b8Setting up libdecor-0-plugin-1-gtk:amd64 (0.2.2-1build2) ...\n",
            "Processing triggers for libc-bin (2.39-0ubuntu8.4) ...\n",
            "Setting up libgtk-3-bin (3.24.41-4ubuntu1.3) ...\n",
            "Processing triggers for libgdk-pixbuf-2.0-0:amd64 (2.42.10+dfsg-3ubuntu3.1) ...\n",
            "\n",
            "\u001b7\u001b[0;24r\u001b8\u001b[1A\u001b[J"
          ]
        }
      ],
      "source": [
        "# !sudo apt update\n",
        "# !sudo apt update && sudo apt install -y libgl1 ffmpeg"
      ]
    },
    {
      "cell_type": "code",
      "execution_count": null,
      "metadata": {},
      "outputs": [],
      "source": [
        "# # Install dependencies\n",
        "# !pip install -q basicsr facexlib gfpgan numpy opencv-python Pillow torch torchvision tqdm realesrgan ffmpeg-python"
      ]
    },
    {
      "cell_type": "markdown",
      "metadata": {},
      "source": [
        "### If using GitHub Codespaces or a Conda environment (Python 3.12):\n",
        "\n",
        "All required Python libraries are automatically installed via the Conda environment. System dependencies are auto-configured using the `postCreateCommand` in the `devcontainer.json` file. No additional steps are required unless you want to manually verify or update packages.\n",
        "\n",
        "#### To create a new Conda environment in GitHub Codespaces:\n",
        "\n",
        "1. Click on the **Select Kernel** dropdown in the top-right corner.\n",
        "2. Select **Another Kernel**.\n",
        "3. Go to **Python Environments** > **Create Python Environment**.\n",
        "4. Choose **Conda** and set the version to **Python 3.12**."
      ]
    },
    {
      "cell_type": "code",
      "execution_count": 4,
      "metadata": {},
      "outputs": [
        {
          "name": "stdout",
          "output_type": "stream",
          "text": [
            "Name: basicsr\n",
            "Version: 1.4.2\n",
            "Summary: Open Source Image and Video Super-Resolution Toolbox\n",
            "Home-page: https://github.com/xinntao/BasicSR\n",
            "Author: Xintao Wang\n",
            "Author-email: xintao.wang@outlook.com\n",
            "License: Apache License 2.0\n",
            "Location: /usr/local/python/3.12.1/lib/python3.12/site-packages\n",
            "Requires: addict, future, lmdb, numpy, opencv-python, Pillow, pyyaml, requests, scikit-image, scipy, tb-nightly, torch, torchvision, tqdm, yapf\n",
            "Required-by: gfpgan, realesrgan\n"
          ]
        }
      ],
      "source": [
        "!pip show basicsr"
      ]
    },
    {
      "cell_type": "code",
      "execution_count": 6,
      "metadata": {},
      "outputs": [
        {
          "name": "stdout",
          "output_type": "stream",
          "text": [
            "Writing dependency-fix.sh\n"
          ]
        }
      ],
      "source": [
        "%%writefile dependency-fix.sh\n",
        "#!/bin/bash\n",
        "# Fix torchvision import in basicsr/data/degradations.py\n",
        "sed -i 's/from torchvision.transforms.functional_tensor import rgb_to_grayscale/from torchvision.transforms.functional import rgb_to_grayscale/' /usr/local/python/3.12.1/lib/python3.12/site-packages/basicsr/data/degradations.py"
      ]
    },
    {
      "cell_type": "code",
      "execution_count": 7,
      "metadata": {},
      "outputs": [],
      "source": [
        "!chmod +x dependency-fix.sh\n",
        "!./dependency-fix.sh"
      ]
    },
    {
      "cell_type": "code",
      "execution_count": null,
      "metadata": {},
      "outputs": [
        {
          "name": "stdout",
          "output_type": "stream",
          "text": [
            "Warning: Output video exceeds 4K resolution, which may be slow due to I/O. Consider reducing outscale.\n"
          ]
        },
        {
          "name": "stderr",
          "output_type": "stream",
          "text": [
            "\n",
            "Processing test1:   0%|          | 0/61 [00:00<?, ?frame/s]\u001b[A"
          ]
        },
        {
          "name": "stdout",
          "output_type": "stream",
          "text": [
            "\tTile 1/4\n",
            "\tTile 2/4\n",
            "\tTile 3/4\n",
            "\tTile 4/4\n"
          ]
        },
        {
          "name": "stderr",
          "output_type": "stream",
          "text": [
            "\n",
            "Processing test1:   2%|▏         | 1/61 [00:14<14:39, 14.67s/frame]\u001b[A"
          ]
        },
        {
          "name": "stdout",
          "output_type": "stream",
          "text": [
            "\tTile 1/4\n",
            "\tTile 2/4\n",
            "\tTile 3/4\n",
            "\tTile 4/4\n"
          ]
        },
        {
          "name": "stderr",
          "output_type": "stream",
          "text": [
            "\n",
            "Processing test1:   3%|▎         | 2/61 [00:28<13:46, 14.01s/frame]\u001b[A"
          ]
        },
        {
          "name": "stdout",
          "output_type": "stream",
          "text": [
            "\tTile 1/4\n",
            "\tTile 2/4\n",
            "\tTile 3/4\n",
            "\tTile 4/4\n"
          ]
        },
        {
          "name": "stderr",
          "output_type": "stream",
          "text": [
            "\n",
            "Processing test1:   5%|▍         | 3/61 [00:41<13:20, 13.81s/frame]\u001b[A"
          ]
        },
        {
          "name": "stdout",
          "output_type": "stream",
          "text": [
            "\tTile 1/4\n",
            "\tTile 2/4\n",
            "\tTile 3/4\n",
            "\tTile 4/4\n"
          ]
        },
        {
          "name": "stderr",
          "output_type": "stream",
          "text": [
            "\n",
            "Processing test1:   7%|▋         | 4/61 [00:55<13:02, 13.73s/frame]\u001b[A"
          ]
        },
        {
          "name": "stdout",
          "output_type": "stream",
          "text": [
            "\tTile 1/4\n",
            "\tTile 2/4\n",
            "\tTile 3/4\n",
            "\tTile 4/4\n"
          ]
        },
        {
          "name": "stderr",
          "output_type": "stream",
          "text": [
            "\n",
            "Processing test1:   8%|▊         | 5/61 [01:09<12:47, 13.70s/frame]\u001b[A"
          ]
        },
        {
          "name": "stdout",
          "output_type": "stream",
          "text": [
            "\tTile 1/4\n",
            "\tTile 2/4\n",
            "\tTile 3/4\n",
            "\tTile 4/4\n"
          ]
        },
        {
          "name": "stderr",
          "output_type": "stream",
          "text": [
            "\n",
            "Processing test1:  10%|▉         | 6/61 [01:22<12:31, 13.67s/frame]\u001b[A"
          ]
        },
        {
          "name": "stdout",
          "output_type": "stream",
          "text": [
            "\tTile 1/4\n",
            "\tTile 2/4\n",
            "\tTile 3/4\n",
            "\tTile 4/4\n"
          ]
        },
        {
          "name": "stderr",
          "output_type": "stream",
          "text": [
            "\n",
            "Processing test1:  11%|█▏        | 7/61 [01:36<12:19, 13.70s/frame]\u001b[A"
          ]
        },
        {
          "name": "stdout",
          "output_type": "stream",
          "text": [
            "\tTile 1/4\n",
            "\tTile 2/4\n",
            "\tTile 3/4\n",
            "\tTile 4/4\n"
          ]
        },
        {
          "name": "stderr",
          "output_type": "stream",
          "text": [
            "\n",
            "Processing test1:  13%|█▎        | 8/61 [01:50<12:15, 13.88s/frame]\u001b[A"
          ]
        },
        {
          "name": "stdout",
          "output_type": "stream",
          "text": [
            "\tTile 1/4\n",
            "\tTile 2/4\n",
            "\tTile 3/4\n",
            "\tTile 4/4\n"
          ]
        },
        {
          "name": "stderr",
          "output_type": "stream",
          "text": [
            "\n",
            "Processing test1:  15%|█▍        | 9/61 [02:04<12:08, 14.01s/frame]\u001b[A"
          ]
        },
        {
          "name": "stdout",
          "output_type": "stream",
          "text": [
            "\tTile 1/4\n",
            "\tTile 2/4\n",
            "\tTile 3/4\n",
            "\tTile 4/4\n"
          ]
        },
        {
          "name": "stderr",
          "output_type": "stream",
          "text": [
            "\n",
            "Processing test1:  16%|█▋        | 10/61 [02:18<11:54, 14.00s/frame]\u001b[A"
          ]
        },
        {
          "name": "stdout",
          "output_type": "stream",
          "text": [
            "\tTile 1/4\n",
            "\tTile 2/4\n",
            "\tTile 3/4\n",
            "\tTile 4/4\n"
          ]
        },
        {
          "name": "stderr",
          "output_type": "stream",
          "text": [
            "\n",
            "Processing test1:  18%|█▊        | 11/61 [02:33<11:41, 14.02s/frame]\u001b[A"
          ]
        },
        {
          "name": "stdout",
          "output_type": "stream",
          "text": [
            "\tTile 1/4\n",
            "\tTile 2/4\n",
            "\tTile 3/4\n",
            "\tTile 4/4\n"
          ]
        },
        {
          "name": "stderr",
          "output_type": "stream",
          "text": [
            "\n",
            "Processing test1:  20%|█▉        | 12/61 [02:47<11:28, 14.06s/frame]\u001b[A"
          ]
        },
        {
          "name": "stdout",
          "output_type": "stream",
          "text": [
            "\tTile 1/4\n",
            "\tTile 2/4\n",
            "\tTile 3/4\n",
            "\tTile 4/4\n"
          ]
        },
        {
          "name": "stderr",
          "output_type": "stream",
          "text": [
            "\n",
            "Processing test1:  21%|██▏       | 13/61 [03:01<11:18, 14.14s/frame]\u001b[A"
          ]
        },
        {
          "name": "stdout",
          "output_type": "stream",
          "text": [
            "\tTile 1/4\n",
            "\tTile 2/4\n",
            "\tTile 3/4\n",
            "\tTile 4/4\n"
          ]
        },
        {
          "name": "stderr",
          "output_type": "stream",
          "text": [
            "\n",
            "Processing test1:  23%|██▎       | 14/61 [03:15<11:04, 14.14s/frame]\u001b[A"
          ]
        },
        {
          "name": "stdout",
          "output_type": "stream",
          "text": [
            "\tTile 1/4\n",
            "\tTile 2/4\n",
            "\tTile 3/4\n",
            "\tTile 4/4\n"
          ]
        },
        {
          "name": "stderr",
          "output_type": "stream",
          "text": [
            "\n",
            "Processing test1:  25%|██▍       | 15/61 [03:30<10:56, 14.28s/frame]\u001b[A"
          ]
        },
        {
          "name": "stdout",
          "output_type": "stream",
          "text": [
            "\tTile 1/4\n",
            "\tTile 2/4\n",
            "\tTile 3/4\n",
            "\tTile 4/4\n"
          ]
        },
        {
          "name": "stderr",
          "output_type": "stream",
          "text": [
            "\n",
            "Processing test1:  26%|██▌       | 16/61 [03:44<10:41, 14.26s/frame]\u001b[A"
          ]
        },
        {
          "name": "stdout",
          "output_type": "stream",
          "text": [
            "\tTile 1/4\n",
            "\tTile 2/4\n",
            "\tTile 3/4\n",
            "\tTile 4/4\n"
          ]
        },
        {
          "name": "stderr",
          "output_type": "stream",
          "text": [
            "\n",
            "Processing test1:  28%|██▊       | 17/61 [03:58<10:26, 14.23s/frame]\u001b[A"
          ]
        },
        {
          "name": "stdout",
          "output_type": "stream",
          "text": [
            "\tTile 1/4\n",
            "\tTile 2/4\n",
            "\tTile 3/4\n",
            "\tTile 4/4\n"
          ]
        },
        {
          "name": "stderr",
          "output_type": "stream",
          "text": [
            "\n",
            "Processing test1:  30%|██▉       | 18/61 [04:12<10:10, 14.20s/frame]\u001b[A"
          ]
        },
        {
          "name": "stdout",
          "output_type": "stream",
          "text": [
            "\tTile 1/4\n",
            "\tTile 2/4\n",
            "\tTile 3/4\n",
            "\tTile 4/4\n"
          ]
        },
        {
          "name": "stderr",
          "output_type": "stream",
          "text": [
            "\n",
            "Processing test1:  31%|███       | 19/61 [04:26<09:56, 14.19s/frame]\u001b[A"
          ]
        },
        {
          "name": "stdout",
          "output_type": "stream",
          "text": [
            "\tTile 1/4\n",
            "\tTile 2/4\n",
            "\tTile 3/4\n",
            "\tTile 4/4\n"
          ]
        },
        {
          "name": "stderr",
          "output_type": "stream",
          "text": [
            "\n",
            "Processing test1:  33%|███▎      | 20/61 [04:40<09:38, 14.11s/frame]\u001b[A"
          ]
        },
        {
          "name": "stdout",
          "output_type": "stream",
          "text": [
            "\tTile 1/4\n",
            "\tTile 2/4\n",
            "\tTile 3/4\n",
            "\tTile 4/4\n"
          ]
        },
        {
          "name": "stderr",
          "output_type": "stream",
          "text": [
            "\n",
            "Processing test1:  34%|███▍      | 21/61 [04:55<09:26, 14.17s/frame]\u001b[A"
          ]
        },
        {
          "name": "stdout",
          "output_type": "stream",
          "text": [
            "\tTile 1/4\n",
            "\tTile 2/4\n",
            "\tTile 3/4\n",
            "\tTile 4/4\n"
          ]
        },
        {
          "name": "stderr",
          "output_type": "stream",
          "text": [
            "\n",
            "Processing test1:  36%|███▌      | 22/61 [05:09<09:18, 14.33s/frame]\u001b[A"
          ]
        },
        {
          "name": "stdout",
          "output_type": "stream",
          "text": [
            "\tTile 1/4\n",
            "\tTile 2/4\n",
            "\tTile 3/4\n",
            "\tTile 4/4\n"
          ]
        },
        {
          "name": "stderr",
          "output_type": "stream",
          "text": [
            "\n",
            "Processing test1:  38%|███▊      | 23/61 [05:24<09:04, 14.32s/frame]\u001b[A"
          ]
        },
        {
          "name": "stdout",
          "output_type": "stream",
          "text": [
            "\tTile 1/4\n",
            "\tTile 2/4\n",
            "\tTile 3/4\n",
            "\tTile 4/4\n"
          ]
        },
        {
          "name": "stderr",
          "output_type": "stream",
          "text": [
            "\n",
            "Processing test1:  39%|███▉      | 24/61 [05:38<08:46, 14.23s/frame]\u001b[A"
          ]
        },
        {
          "name": "stdout",
          "output_type": "stream",
          "text": [
            "\tTile 1/4\n",
            "\tTile 2/4\n",
            "\tTile 3/4\n",
            "\tTile 4/4\n"
          ]
        },
        {
          "name": "stderr",
          "output_type": "stream",
          "text": [
            "\n",
            "Processing test1:  41%|████      | 25/61 [05:52<08:32, 14.24s/frame]\u001b[A"
          ]
        },
        {
          "name": "stdout",
          "output_type": "stream",
          "text": [
            "\tTile 1/4\n",
            "\tTile 2/4\n",
            "\tTile 3/4\n",
            "\tTile 4/4\n"
          ]
        },
        {
          "name": "stderr",
          "output_type": "stream",
          "text": [
            "\n",
            "Processing test1:  43%|████▎     | 26/61 [06:06<08:17, 14.20s/frame]\u001b[A"
          ]
        },
        {
          "name": "stdout",
          "output_type": "stream",
          "text": [
            "\tTile 1/4\n",
            "\tTile 2/4\n",
            "\tTile 3/4\n",
            "\tTile 4/4\n"
          ]
        },
        {
          "name": "stderr",
          "output_type": "stream",
          "text": [
            "\n",
            "Processing test1:  44%|████▍     | 27/61 [06:20<08:03, 14.23s/frame]\u001b[A"
          ]
        },
        {
          "name": "stdout",
          "output_type": "stream",
          "text": [
            "\tTile 1/4\n",
            "\tTile 2/4\n",
            "\tTile 3/4\n",
            "\tTile 4/4\n"
          ]
        },
        {
          "name": "stderr",
          "output_type": "stream",
          "text": [
            "\n",
            "Processing test1:  46%|████▌     | 28/61 [06:35<07:54, 14.39s/frame]\u001b[A"
          ]
        },
        {
          "name": "stdout",
          "output_type": "stream",
          "text": [
            "\tTile 1/4\n",
            "\tTile 2/4\n",
            "\tTile 3/4\n",
            "\tTile 4/4\n"
          ]
        },
        {
          "name": "stderr",
          "output_type": "stream",
          "text": [
            "\n",
            "Processing test1:  48%|████▊     | 29/61 [06:50<07:41, 14.41s/frame]\u001b[A"
          ]
        },
        {
          "name": "stdout",
          "output_type": "stream",
          "text": [
            "\tTile 1/4\n",
            "\tTile 2/4\n",
            "\tTile 3/4\n",
            "\tTile 4/4\n"
          ]
        },
        {
          "name": "stderr",
          "output_type": "stream",
          "text": [
            "\n",
            "Processing test1:  49%|████▉     | 30/61 [07:04<07:22, 14.28s/frame]\u001b[A"
          ]
        },
        {
          "name": "stdout",
          "output_type": "stream",
          "text": [
            "\tTile 1/4\n",
            "\tTile 2/4\n",
            "\tTile 3/4\n",
            "\tTile 4/4\n"
          ]
        },
        {
          "name": "stderr",
          "output_type": "stream",
          "text": [
            "\n",
            "Processing test1:  51%|█████     | 31/61 [07:18<07:09, 14.32s/frame]\u001b[A"
          ]
        },
        {
          "name": "stdout",
          "output_type": "stream",
          "text": [
            "\tTile 1/4\n",
            "\tTile 2/4\n",
            "\tTile 3/4\n",
            "\tTile 4/4\n"
          ]
        },
        {
          "name": "stderr",
          "output_type": "stream",
          "text": [
            "\n",
            "Processing test1:  52%|█████▏    | 32/61 [07:32<06:53, 14.26s/frame]\u001b[A"
          ]
        },
        {
          "name": "stdout",
          "output_type": "stream",
          "text": [
            "\tTile 1/4\n",
            "\tTile 2/4\n",
            "\tTile 3/4\n",
            "\tTile 4/4\n"
          ]
        },
        {
          "name": "stderr",
          "output_type": "stream",
          "text": [
            "\n",
            "Processing test1:  54%|█████▍    | 33/61 [07:46<06:40, 14.29s/frame]\u001b[A"
          ]
        },
        {
          "name": "stdout",
          "output_type": "stream",
          "text": [
            "\tTile 1/4\n",
            "\tTile 2/4\n",
            "\tTile 3/4\n",
            "\tTile 4/4\n"
          ]
        },
        {
          "name": "stderr",
          "output_type": "stream",
          "text": [
            "\n",
            "Processing test1:  56%|█████▌    | 34/61 [08:01<06:27, 14.34s/frame]\u001b[A"
          ]
        },
        {
          "name": "stdout",
          "output_type": "stream",
          "text": [
            "\tTile 1/4\n",
            "\tTile 2/4\n",
            "\tTile 3/4\n",
            "\tTile 4/4\n"
          ]
        },
        {
          "name": "stderr",
          "output_type": "stream",
          "text": [
            "\n",
            "Processing test1:  57%|█████▋    | 35/61 [08:16<06:16, 14.47s/frame]\u001b[A"
          ]
        },
        {
          "name": "stdout",
          "output_type": "stream",
          "text": [
            "\tTile 1/4\n",
            "\tTile 2/4\n",
            "\tTile 3/4\n",
            "\tTile 4/4\n"
          ]
        },
        {
          "name": "stderr",
          "output_type": "stream",
          "text": [
            "\n",
            "Processing test1:  59%|█████▉    | 36/61 [08:30<05:59, 14.39s/frame]\u001b[A"
          ]
        },
        {
          "name": "stdout",
          "output_type": "stream",
          "text": [
            "\tTile 1/4\n",
            "\tTile 2/4\n",
            "\tTile 3/4\n",
            "\tTile 4/4\n"
          ]
        },
        {
          "name": "stderr",
          "output_type": "stream",
          "text": [
            "\n",
            "Processing test1:  61%|██████    | 37/61 [08:44<05:44, 14.37s/frame]\u001b[A"
          ]
        },
        {
          "name": "stdout",
          "output_type": "stream",
          "text": [
            "\tTile 1/4\n",
            "\tTile 2/4\n",
            "\tTile 3/4\n",
            "\tTile 4/4\n"
          ]
        },
        {
          "name": "stderr",
          "output_type": "stream",
          "text": [
            "\n",
            "Processing test1:  62%|██████▏   | 38/61 [08:58<05:29, 14.31s/frame]\u001b[A"
          ]
        },
        {
          "name": "stdout",
          "output_type": "stream",
          "text": [
            "\tTile 1/4\n",
            "\tTile 2/4\n",
            "\tTile 3/4\n",
            "\tTile 4/4\n"
          ]
        },
        {
          "name": "stderr",
          "output_type": "stream",
          "text": [
            "\n",
            "Processing test1:  64%|██████▍   | 39/61 [09:13<05:16, 14.36s/frame]\u001b[A"
          ]
        },
        {
          "name": "stdout",
          "output_type": "stream",
          "text": [
            "\tTile 1/4\n",
            "\tTile 2/4\n",
            "\tTile 3/4\n",
            "\tTile 4/4\n"
          ]
        },
        {
          "name": "stderr",
          "output_type": "stream",
          "text": [
            "\n",
            "Processing test1:  66%|██████▌   | 40/61 [09:27<05:02, 14.41s/frame]\u001b[A"
          ]
        },
        {
          "name": "stdout",
          "output_type": "stream",
          "text": [
            "\tTile 1/4\n",
            "\tTile 2/4\n",
            "\tTile 3/4\n",
            "\tTile 4/4\n"
          ]
        },
        {
          "name": "stderr",
          "output_type": "stream",
          "text": [
            "\n",
            "Processing test1:  67%|██████▷   | 41/61 [09:42<04:50, 14.53s/frame]\u001b[A"
          ]
        },
        {
          "name": "stdout",
          "output_type": "stream",
          "text": [
            "\tTile 1/4\n",
            "\tTile 2/4\n",
            "\tTile 3/4\n",
            "\tTile 4/4\n"
          ]
        },
        {
          "name": "stderr",
          "output_type": "stream",
          "text": [
            "\n",
            "Processing test1:  69%|██████▉   | 42/61 [09:56<04:34, 14.46s/frame]\u001b[A"
          ]
        },
        {
          "name": "stdout",
          "output_type": "stream",
          "text": [
            "\tTile 1/4\n",
            "\tTile 2/4\n",
            "\tTile 3/4\n",
            "\tTile 4/4\n"
          ]
        },
        {
          "name": "stderr",
          "output_type": "stream",
          "text": [
            "\n",
            "Processing test1:  70%|███████   | 43/61 [10:12<04:27, 14.88s/frame]\u001b[A"
          ]
        },
        {
          "name": "stdout",
          "output_type": "stream",
          "text": [
            "\tTile 1/4\n",
            "\tTile 2/4\n",
            "\tTile 3/4\n",
            "\tTile 4/4\n"
          ]
        },
        {
          "name": "stderr",
          "output_type": "stream",
          "text": [
            "\n",
            "Processing test1:  72%|███████▏  | 44/61 [10:27<04:11, 14.80s/frame]\u001b[A"
          ]
        },
        {
          "name": "stdout",
          "output_type": "stream",
          "text": [
            "\tTile 1/4\n",
            "\tTile 2/4\n",
            "\tTile 3/4\n",
            "\tTile 4/4\n"
          ]
        },
        {
          "name": "stderr",
          "output_type": "stream",
          "text": [
            "\n",
            "Processing test1:  74%|███████▍  | 45/61 [10:42<03:58, 14.90s/frame]\u001b[A"
          ]
        },
        {
          "name": "stdout",
          "output_type": "stream",
          "text": [
            "\tTile 1/4\n",
            "\tTile 2/4\n",
            "\tTile 3/4\n",
            "\tTile 4/4\n"
          ]
        },
        {
          "name": "stderr",
          "output_type": "stream",
          "text": [
            "\n",
            "Processing test1:  75%|███████▌  | 46/61 [10:57<03:44, 14.98s/frame]\u001b[A"
          ]
        },
        {
          "name": "stdout",
          "output_type": "stream",
          "text": [
            "\tTile 1/4\n",
            "\tTile 2/4\n",
            "\tTile 3/4\n",
            "\tTile 4/4\n"
          ]
        },
        {
          "name": "stderr",
          "output_type": "stream",
          "text": [
            "\n",
            "Processing test1:  77%|███████▋  | 47/61 [11:13<03:32, 15.15s/frame]\u001b[A"
          ]
        },
        {
          "name": "stdout",
          "output_type": "stream",
          "text": [
            "\tTile 1/4\n",
            "\tTile 2/4\n",
            "\tTile 3/4\n",
            "\tTile 4/4\n"
          ]
        },
        {
          "name": "stderr",
          "output_type": "stream",
          "text": [
            "\n",
            "Processing test1:  79%|███████▊  | 48/61 [11:29<03:19, 15.34s/frame]\u001b[A"
          ]
        },
        {
          "name": "stdout",
          "output_type": "stream",
          "text": [
            "\tTile 1/4\n",
            "\tTile 2/4\n",
            "\tTile 3/4\n",
            "\tTile 4/4\n"
          ]
        },
        {
          "name": "stderr",
          "output_type": "stream",
          "text": [
            "\n",
            "Processing test1:  80%|████████  | 49/61 [11:45<03:08, 15.69s/frame]\u001b[A"
          ]
        },
        {
          "name": "stdout",
          "output_type": "stream",
          "text": [
            "\tTile 1/4\n",
            "\tTile 2/4\n",
            "\tTile 3/4\n",
            "\tTile 4/4\n"
          ]
        },
        {
          "name": "stderr",
          "output_type": "stream",
          "text": [
            "\n",
            "Processing test1:  82%|████████▏ | 50/61 [12:02<02:55, 16.00s/frame]\u001b[A"
          ]
        },
        {
          "name": "stdout",
          "output_type": "stream",
          "text": [
            "\tTile 1/4\n",
            "\tTile 2/4\n",
            "\tTile 3/4\n",
            "\tTile 4/4\n"
          ]
        },
        {
          "name": "stderr",
          "output_type": "stream",
          "text": [
            "\n",
            "Processing test1:  84%|████████▎ | 51/61 [12:18<02:40, 16.04s/frame]\u001b[A"
          ]
        },
        {
          "name": "stdout",
          "output_type": "stream",
          "text": [
            "\tTile 1/4\n",
            "\tTile 2/4\n",
            "\tTile 3/4\n",
            "\tTile 4/4\n"
          ]
        },
        {
          "name": "stderr",
          "output_type": "stream",
          "text": [
            "\n",
            "Processing test1:  85%|████████▌ | 52/61 [12:34<02:25, 16.13s/frame]\u001b[A"
          ]
        },
        {
          "name": "stdout",
          "output_type": "stream",
          "text": [
            "\tTile 1/4\n",
            "\tTile 2/4\n",
            "\tTile 3/4\n",
            "\tTile 4/4\n"
          ]
        },
        {
          "name": "stderr",
          "output_type": "stream",
          "text": [
            "\n",
            "Processing test1:  87%|████████▋ | 53/61 [12:51<02:09, 16.17s/frame]\u001b[A"
          ]
        },
        {
          "name": "stdout",
          "output_type": "stream",
          "text": [
            "\tTile 1/4\n",
            "\tTile 2/4\n",
            "\tTile 3/4\n",
            "\tTile 4/4\n"
          ]
        },
        {
          "name": "stderr",
          "output_type": "stream",
          "text": [
            "\n",
            "Processing test1:  89%|████████▊ | 54/61 [13:06<01:52, 16.07s/frame]\u001b[A"
          ]
        },
        {
          "name": "stdout",
          "output_type": "stream",
          "text": [
            "\tTile 1/4\n",
            "\tTile 2/4\n",
            "\tTile 3/4\n",
            "\tTile 4/4\n"
          ]
        },
        {
          "name": "stderr",
          "output_type": "stream",
          "text": [
            "\n",
            "Processing test1:  90%|█████████ | 55/61 [13:22<01:35, 15.99s/frame]\u001b[A"
          ]
        },
        {
          "name": "stdout",
          "output_type": "stream",
          "text": [
            "\tTile 1/4\n",
            "\tTile 2/4\n",
            "\tTile 3/4\n",
            "\tTile 4/4\n"
          ]
        },
        {
          "name": "stderr",
          "output_type": "stream",
          "text": [
            "\n",
            "Processing test1:  92%|█████████▏| 56/61 [13:39<01:20, 16.16s/frame]\u001b[A"
          ]
        },
        {
          "name": "stdout",
          "output_type": "stream",
          "text": [
            "\tTile 1/4\n",
            "\tTile 2/4\n",
            "\tTile 3/4\n",
            "\tTile 4/4\n"
          ]
        },
        {
          "name": "stderr",
          "output_type": "stream",
          "text": [
            "\n",
            "Processing test1:  93%|█████████▎| 57/61 [13:55<01:04, 16.16s/frame]\u001b[A"
          ]
        },
        {
          "name": "stdout",
          "output_type": "stream",
          "text": [
            "\tTile 1/4\n",
            "\tTile 2/4\n",
            "\tTile 3/4\n",
            "\tTile 4/4\n"
          ]
        },
        {
          "name": "stderr",
          "output_type": "stream",
          "text": [
            "\n",
            "Processing test1:  95%|█████████▌| 58/61 [14:11<00:48, 16.15s/frame]\u001b[A"
          ]
        },
        {
          "name": "stdout",
          "output_type": "stream",
          "text": [
            "\tTile 1/4\n",
            "\tTile 2/4\n",
            "\tTile 3/4\n",
            "\tTile 4/4\n"
          ]
        },
        {
          "name": "stderr",
          "output_type": "stream",
          "text": [
            "\n",
            "Processing test1:  97%|█████████▋| 59/61 [14:27<00:31, 15.99s/frame]\u001b[A"
          ]
        },
        {
          "name": "stdout",
          "output_type": "stream",
          "text": [
            "\tTile 1/4\n",
            "\tTile 2/4\n",
            "\tTile 3/4\n",
            "\tTile 4/4\n"
          ]
        },
        {
          "name": "stderr",
          "output_type": "stream",
          "text": [
            "\n",
            "Processing test1:  98%|█████████▊| 60/61 [16:29<00:16, 16.50s/frame]"
          ]
        },
        {
          "name": "stdout",
          "output_type": "stream",
          "text": [
            "Saved: output/test1_out.mp4\n"
          ]
        },
        {
          "name": "stderr",
          "output_type": "stream",
          "text": [
            "\n"
          ]
        }
      ],
      "source": [
        "import os\n",
        "from basicsr.archs.rrdbnet_arch import RRDBNet\n",
        "from realesrgan import RealESRGANer\n",
        "from tqdm import tqdm\n",
        "import ffmpeg\n",
        "import mimetypes\n",
        "import numpy as np\n",
        "\n",
        "class VideoReader:\n",
        "    def __init__(self, video_path, ffmpeg_bin='ffmpeg'):\n",
        "        self.ffmpeg_bin = ffmpeg_bin\n",
        "        meta = self.get_video_meta_info(video_path)\n",
        "        self.width = meta['width']\n",
        "        self.height = meta['height']\n",
        "        self.fps = meta['fps']\n",
        "        self.audio = meta['audio']\n",
        "        self.nb_frames = meta['nb_frames']\n",
        "        self.stream_reader = (\n",
        "            ffmpeg.input(video_path).output('pipe:', format='rawvideo', pix_fmt='bgr24', loglevel='error')\n",
        "            .run_async(pipe_stdin=True, pipe_stdout=True, cmd=ffmpeg_bin)\n",
        "        )\n",
        "        self.idx = 0\n",
        "\n",
        "    def get_video_meta_info(self, video_path):\n",
        "        probe = ffmpeg.probe(video_path)\n",
        "        video_streams = [stream for stream in probe['streams'] if stream['codec_type'] == 'video']\n",
        "        has_audio = any(stream['codec_type'] == 'audio' for stream in probe['streams'])\n",
        "        return {\n",
        "            'width': video_streams[0]['width'],\n",
        "            'height': video_streams[0]['height'],\n",
        "            'fps': eval(video_streams[0]['avg_frame_rate']),\n",
        "            'audio': ffmpeg.input(video_path).audio if has_audio else None,\n",
        "            'nb_frames': int(video_streams[0]['nb_frames'])\n",
        "        }\n",
        "\n",
        "    def get_frame(self):\n",
        "        if self.idx >= self.nb_frames:\n",
        "            return None\n",
        "        img_bytes = self.stream_reader.stdout.read(self.width * self.height * 3)\n",
        "        if not img_bytes:\n",
        "            return None\n",
        "        img = np.frombuffer(img_bytes, np.uint8).reshape([self.height, self.width, 3])\n",
        "        self.idx += 1\n",
        "        return img\n",
        "\n",
        "    def get_resolution(self):\n",
        "        return self.height, self.width\n",
        "\n",
        "    def get_fps(self):\n",
        "        return self.fps\n",
        "\n",
        "    def get_audio(self):\n",
        "        return self.audio\n",
        "\n",
        "    def __len__(self):\n",
        "        return self.nb_frames\n",
        "\n",
        "    def close(self):\n",
        "        self.stream_reader.stdin.close()\n",
        "        self.stream_reader.wait()\n",
        "\n",
        "class VideoWriter:\n",
        "    def __init__(self, video_save_path, audio, height, width, fps, outscale, ffmpeg_bin='ffmpeg'):\n",
        "        self.ffmpeg_bin = ffmpeg_bin\n",
        "        out_width, out_height = int(width * outscale), int(height * outscale)\n",
        "        if out_height > 2160:\n",
        "            print('Warning: Output video exceeds 4K resolution, which may be slow due to I/O. Consider reducing outscale.')\n",
        "        input_args = {\n",
        "            'format': 'rawvideo',\n",
        "            'pix_fmt': 'bgr24',\n",
        "            's': f'{out_width}x{out_height}',\n",
        "            'framerate': fps\n",
        "        }\n",
        "        output_args = {\n",
        "            'pix_fmt': 'yuv420p',\n",
        "            'vcodec': 'libx264',\n",
        "            'loglevel': 'error'\n",
        "        }\n",
        "        if audio is not None:\n",
        "            output_args['acodec'] = 'copy'\n",
        "            self.stream_writer = (\n",
        "                ffmpeg.input('pipe:', **input_args)\n",
        "                .output(audio, video_save_path, **output_args)\n",
        "                .overwrite_output()\n",
        "                .run_async(pipe_stdin=True, pipe_stdout=True, cmd=ffmpeg_bin)\n",
        "            )\n",
        "        else:\n",
        "            self.stream_writer = (\n",
        "                ffmpeg.input('pipe:', **input_args)\n",
        "                .output(video_save_path, **output_args)\n",
        "                .overwrite_output()\n",
        "                .run_async(pipe_stdin=True, pipe_stdout=True, cmd=ffmpeg_bin)\n",
        "            )\n",
        "\n",
        "    def write_frame(self, frame):\n",
        "        frame = frame.astype(np.uint8).tobytes()\n",
        "        self.stream_writer.stdin.write(frame)\n",
        "\n",
        "    def close(self):\n",
        "        self.stream_writer.stdin.close()\n",
        "        self.stream_writer.wait()\n",
        "\n",
        "def main():\n",
        "    # Hardcoded parameters\n",
        "    input_path = 'video/test1.mp4'\n",
        "    output_dir = 'output'\n",
        "    model_name = 'RealESRGAN_x4plus'\n",
        "    model_path = '../../RealESRGAN/model/net_g_5000.pth'\n",
        "    outscale = 4\n",
        "    suffix = 'out'\n",
        "    tile = 1000\n",
        "    ffmpeg_bin = 'ffmpeg'\n",
        "    fp32 = False  # Use FP16 by default\n",
        "\n",
        "    # Ensure model name is RealESRGAN_x4plus\n",
        "    if model_name != 'RealESRGAN_x4plus':\n",
        "        raise ValueError('This script only supports RealESRGAN_x4plus model')\n",
        "\n",
        "    # Validate input and model path\n",
        "    input_path = input_path.rstrip('/').rstrip('\\\\')\n",
        "    if not os.path.isfile(input_path) or not mimetypes.guess_type(input_path)[0].startswith('video'):\n",
        "        raise ValueError('Input must be a video file')\n",
        "    if not os.path.isfile(model_path):\n",
        "        raise ValueError(f'Model path {model_path} does not exist')\n",
        "\n",
        "    # Convert .flv to .mp4 if necessary\n",
        "    if input_path.endswith('.flv'):\n",
        "        mp4_path = input_path.replace('.flv', '.mp4')\n",
        "        os.system(f'{ffmpeg_bin} -i {input_path} -codec copy {mp4_path}')\n",
        "        input_path = mp4_path\n",
        "\n",
        "    # Initialize model\n",
        "    model = RRDBNet(num_in_ch=3, num_out_ch=3, num_feat=64, num_block=23, num_grow_ch=32, scale=4)\n",
        "    upsampler = RealESRGANer(\n",
        "        scale=4,\n",
        "        model_path=model_path,\n",
        "        model=model,\n",
        "        tile=tile,\n",
        "        tile_pad=10,\n",
        "        pre_pad=0,\n",
        "        half=not fp32\n",
        "    )\n",
        "\n",
        "    # Create output directory\n",
        "    os.makedirs(output_dir, exist_ok=True)\n",
        "    video_name = os.path.splitext(os.path.basename(input_path))[0]\n",
        "    video_save_path = os.path.join(output_dir, f'{video_name}_{suffix}.mp4')\n",
        "\n",
        "    # Process video\n",
        "    reader = VideoReader(input_path, ffmpeg_bin)\n",
        "    audio = reader.get_audio()\n",
        "    height, width = reader.get_resolution()\n",
        "    fps = reader.get_fps()\n",
        "    writer = VideoWriter(video_save_path, audio, height, width, fps, outscale, ffmpeg_bin)\n",
        "\n",
        "    pbar = tqdm(total=len(reader), unit='frame', desc=f'Processing {video_name}')\n",
        "    while True:\n",
        "        img = reader.get_frame()\n",
        "        if img is None:\n",
        "            break\n",
        "        try:\n",
        "            output, _ = upsampler.enhance(img, outscale=outscale)\n",
        "            writer.write_frame(output)\n",
        "        except RuntimeError as error:\n",
        "            print(f'Error processing frame: {error}')\n",
        "            print('Try reducing tile size if you encounter CUDA out of memory.')\n",
        "        pbar.update(1)\n",
        "\n",
        "    reader.close()\n",
        "    writer.close()\n",
        "    print(f'Saved: {video_save_path}')\n",
        "\n",
        "if __name__ == '__main__':\n",
        "    main()"
      ]
    },
    {
      "cell_type": "markdown",
      "metadata": {},
      "source": [
        "## Usage Instructions\n",
        "\n",
        "1. **Set Up Files**:\n",
        "   - Upload your input video (e.g., `test1.mp4`) to the `video/` directory in the Colab working directory, or include it in your Git repository.\n",
        "   - Clone the Git repository containing the fine-tuned model weights (`net_g_5000.pth`) by running the provided cell. Ensure Git LFS is installed to download the model.\n",
        "\n",
        "2. **Modify Paths**:\n",
        "   - Update `input_path` in the `main` function to point to your video file (e.g., `video/test1.mp4`).\n",
        "   - Update `model_path` to point to the fine-tuned model (e.g., `your-repo/model/net_g_5000.pth`).\n",
        "   - Optionally, adjust `output_dir`, `outscale`, or `tile` as needed.\n",
        "\n",
        "3. **Run the Notebook**:\n",
        "   - Execute all cells in order.\n",
        "   - Monitor the progress bar for frame processing.\n",
        "\n",
        "4. **Download Output**:\n",
        "   - The enhanced video will be saved in the `output/` directory (e.g., `output/test1_out.mp4`).\n",
        "   - Download the video from Colab's file explorer.\n",
        "\n",
        "## Troubleshooting\n",
        "- **CUDA Out of Memory**: Reduce `tile` size (e.g., to 512) or lower `outscale`.\n",
        "- **FFmpeg Errors**: Ensure FFmpeg is installed correctly by running the dependency installation cell.\n",
        "- **Model Not Found**: Verify the Git repository is cloned, Git LFS is set up, and the model path is correct.\n",
        "- **Slow Processing**: High `outscale` or large video resolutions may increase processing time. Consider reducing `outscale` or video resolution.\n",
        "- **Git LFS Issues**: Ensure Git LFS is installed and the repository is properly configured. Run `git lfs pull` in the repository directory to download the model."
      ]
    }
  ],
  "metadata": {
    "kernelspec": {
      "display_name": "Python 3",
      "language": "python",
      "name": "python3"
    },
    "language_info": {
      "codemirror_mode": {
        "name": "ipython",
        "version": 3
      },
      "file_extension": ".py",
      "mimetype": "text/x-python",
      "name": "python",
      "nbconvert_exporter": "python",
      "pygments_lexer": "ipython3",
      "version": "3.12.11"
    }
  },
  "nbformat": 4,
  "nbformat_minor": 4
}
